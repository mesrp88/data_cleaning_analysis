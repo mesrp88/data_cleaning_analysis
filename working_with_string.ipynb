{
  "nbformat": 4,
  "nbformat_minor": 0,
  "metadata": {
    "colab": {
      "name": "working_with_string.ipynb",
      "provenance": [],
      "authorship_tag": "ABX9TyPY5xpmEiaEj9Fg82kMzKSa",
      "include_colab_link": true
    },
    "kernelspec": {
      "name": "python3",
      "display_name": "Python 3"
    },
    "language_info": {
      "name": "python"
    }
  },
  "cells": [
    {
      "cell_type": "markdown",
      "metadata": {
        "id": "view-in-github",
        "colab_type": "text"
      },
      "source": [
        "<a href=\"https://colab.research.google.com/github/mesrp88/data_cleaning_analysis/blob/main/working_with_string.ipynb\" target=\"_parent\"><img src=\"https://colab.research.google.com/assets/colab-badge.svg\" alt=\"Open In Colab\"/></a>"
      ]
    },
    {
      "cell_type": "code",
      "metadata": {
        "id": "q_GDSbIiRJBD"
      },
      "source": [
        "import pandas as pd\n",
        "import numpy as np\n"
      ],
      "execution_count": 1,
      "outputs": []
    },
    {
      "cell_type": "code",
      "metadata": {
        "colab": {
          "base_uri": "https://localhost:8080/",
          "height": 467
        },
        "id": "EkW3h33lRtex",
        "outputId": "e3633f57-45a7-46e4-89ea-3a8f823d93cf"
      },
      "source": [
        "world_dev= pd.read_csv(\"/content/World_dev.csv\")\n",
        "world_dev.head()"
      ],
      "execution_count": 2,
      "outputs": [
        {
          "output_type": "execute_result",
          "data": {
            "text/html": [
              "<div>\n",
              "<style scoped>\n",
              "    .dataframe tbody tr th:only-of-type {\n",
              "        vertical-align: middle;\n",
              "    }\n",
              "\n",
              "    .dataframe tbody tr th {\n",
              "        vertical-align: top;\n",
              "    }\n",
              "\n",
              "    .dataframe thead th {\n",
              "        text-align: right;\n",
              "    }\n",
              "</style>\n",
              "<table border=\"1\" class=\"dataframe\">\n",
              "  <thead>\n",
              "    <tr style=\"text-align: right;\">\n",
              "      <th></th>\n",
              "      <th>CountryCode</th>\n",
              "      <th>ShortName</th>\n",
              "      <th>TableName</th>\n",
              "      <th>LongName</th>\n",
              "      <th>Alpha2Code</th>\n",
              "      <th>CurrencyUnit</th>\n",
              "      <th>SpecialNotes</th>\n",
              "      <th>Region</th>\n",
              "      <th>IncomeGroup</th>\n",
              "      <th>Wb2Code</th>\n",
              "      <th>NationalAccountsBaseYear</th>\n",
              "      <th>NationalAccountsReferenceYear</th>\n",
              "      <th>SnaPriceValuation</th>\n",
              "      <th>LendingCategory</th>\n",
              "      <th>OtherGroups</th>\n",
              "      <th>SystemOfNationalAccounts</th>\n",
              "      <th>AlternativeConversionFactor</th>\n",
              "      <th>PppSurveyYear</th>\n",
              "      <th>BalanceOfPaymentsManualInUse</th>\n",
              "      <th>ExternalDebtReportingStatus</th>\n",
              "      <th>SystemOfTrade</th>\n",
              "      <th>GovernmentAccountingConcept</th>\n",
              "      <th>ImfDataDisseminationStandard</th>\n",
              "      <th>LatestPopulationCensus</th>\n",
              "      <th>LatestHouseholdSurvey</th>\n",
              "      <th>SourceOfMostRecentIncomeAndExpenditureData</th>\n",
              "      <th>VitalRegistrationComplete</th>\n",
              "      <th>LatestAgriculturalCensus</th>\n",
              "      <th>LatestIndustrialData</th>\n",
              "      <th>LatestTradeData</th>\n",
              "      <th>LatestWaterWithdrawalData</th>\n",
              "    </tr>\n",
              "  </thead>\n",
              "  <tbody>\n",
              "    <tr>\n",
              "      <th>0</th>\n",
              "      <td>AFG</td>\n",
              "      <td>Afghanistan</td>\n",
              "      <td>Afghanistan</td>\n",
              "      <td>Islamic State of Afghanistan</td>\n",
              "      <td>AF</td>\n",
              "      <td>Afghan afghani</td>\n",
              "      <td>Fiscal year end: March 20; reporting period fo...</td>\n",
              "      <td>South Asia</td>\n",
              "      <td>Low income</td>\n",
              "      <td>AF</td>\n",
              "      <td>2002/03</td>\n",
              "      <td>NaN</td>\n",
              "      <td>Value added at basic prices (VAB)</td>\n",
              "      <td>IDA</td>\n",
              "      <td>HIPC</td>\n",
              "      <td>Country uses the 1993 System of National Accou...</td>\n",
              "      <td>NaN</td>\n",
              "      <td>NaN</td>\n",
              "      <td>NaN</td>\n",
              "      <td>Actual</td>\n",
              "      <td>General trade system</td>\n",
              "      <td>Consolidated central government</td>\n",
              "      <td>General Data Dissemination System (GDDS)</td>\n",
              "      <td>1979</td>\n",
              "      <td>Multiple Indicator Cluster Survey (MICS), 2010/11</td>\n",
              "      <td>Integrated household survey (IHS), 2008</td>\n",
              "      <td>NaN</td>\n",
              "      <td>2013/14</td>\n",
              "      <td>NaN</td>\n",
              "      <td>2013.0</td>\n",
              "      <td>2000.0</td>\n",
              "    </tr>\n",
              "    <tr>\n",
              "      <th>1</th>\n",
              "      <td>ALB</td>\n",
              "      <td>Albania</td>\n",
              "      <td>Albania</td>\n",
              "      <td>Republic of Albania</td>\n",
              "      <td>AL</td>\n",
              "      <td>Albanian lek</td>\n",
              "      <td>NaN</td>\n",
              "      <td>Europe &amp; Central Asia</td>\n",
              "      <td>Upper middle income</td>\n",
              "      <td>AL</td>\n",
              "      <td>Original chained constant price data are resca...</td>\n",
              "      <td>1996</td>\n",
              "      <td>Value added at basic prices (VAB)</td>\n",
              "      <td>IBRD</td>\n",
              "      <td>NaN</td>\n",
              "      <td>Country uses the 1993 System of National Accou...</td>\n",
              "      <td>NaN</td>\n",
              "      <td>Rolling</td>\n",
              "      <td>IMF Balance of Payments Manual, 6th edition.</td>\n",
              "      <td>Actual</td>\n",
              "      <td>General trade system</td>\n",
              "      <td>Budgetary central government</td>\n",
              "      <td>General Data Dissemination System (GDDS)</td>\n",
              "      <td>2011</td>\n",
              "      <td>Demographic and Health Survey (DHS), 2008/09</td>\n",
              "      <td>Living Standards Measurement Study Survey (LSM...</td>\n",
              "      <td>Yes</td>\n",
              "      <td>2012</td>\n",
              "      <td>2011.0</td>\n",
              "      <td>2013.0</td>\n",
              "      <td>2006.0</td>\n",
              "    </tr>\n",
              "    <tr>\n",
              "      <th>2</th>\n",
              "      <td>DZA</td>\n",
              "      <td>Algeria</td>\n",
              "      <td>Algeria</td>\n",
              "      <td>People's Democratic Republic of Algeria</td>\n",
              "      <td>DZ</td>\n",
              "      <td>Algerian dinar</td>\n",
              "      <td>NaN</td>\n",
              "      <td>Middle East &amp; North Africa</td>\n",
              "      <td>Upper middle income</td>\n",
              "      <td>DZ</td>\n",
              "      <td>1980</td>\n",
              "      <td>NaN</td>\n",
              "      <td>Value added at basic prices (VAB)</td>\n",
              "      <td>IBRD</td>\n",
              "      <td>NaN</td>\n",
              "      <td>Country uses the 1968 System of National Accou...</td>\n",
              "      <td>NaN</td>\n",
              "      <td>2011</td>\n",
              "      <td>IMF Balance of Payments Manual, 6th edition.</td>\n",
              "      <td>Actual</td>\n",
              "      <td>Special trade system</td>\n",
              "      <td>Budgetary central government</td>\n",
              "      <td>General Data Dissemination System (GDDS)</td>\n",
              "      <td>2008</td>\n",
              "      <td>Multiple Indicator Cluster Survey (MICS), 2012</td>\n",
              "      <td>Integrated household survey (IHS), 1995</td>\n",
              "      <td>NaN</td>\n",
              "      <td>NaN</td>\n",
              "      <td>2010.0</td>\n",
              "      <td>2013.0</td>\n",
              "      <td>2001.0</td>\n",
              "    </tr>\n",
              "    <tr>\n",
              "      <th>3</th>\n",
              "      <td>ASM</td>\n",
              "      <td>American Samoa</td>\n",
              "      <td>American Samoa</td>\n",
              "      <td>American Samoa</td>\n",
              "      <td>AS</td>\n",
              "      <td>U.S. dollar</td>\n",
              "      <td>NaN</td>\n",
              "      <td>East Asia &amp; Pacific</td>\n",
              "      <td>Upper middle income</td>\n",
              "      <td>AS</td>\n",
              "      <td>NaN</td>\n",
              "      <td>NaN</td>\n",
              "      <td>NaN</td>\n",
              "      <td>NaN</td>\n",
              "      <td>NaN</td>\n",
              "      <td>Country uses the 1968 System of National Accou...</td>\n",
              "      <td>NaN</td>\n",
              "      <td>2011 (household consumption only).</td>\n",
              "      <td>NaN</td>\n",
              "      <td>NaN</td>\n",
              "      <td>Special trade system</td>\n",
              "      <td>NaN</td>\n",
              "      <td>NaN</td>\n",
              "      <td>2010</td>\n",
              "      <td>NaN</td>\n",
              "      <td>NaN</td>\n",
              "      <td>Yes</td>\n",
              "      <td>2007</td>\n",
              "      <td>NaN</td>\n",
              "      <td>NaN</td>\n",
              "      <td>NaN</td>\n",
              "    </tr>\n",
              "    <tr>\n",
              "      <th>4</th>\n",
              "      <td>ADO</td>\n",
              "      <td>Andorra</td>\n",
              "      <td>Andorra</td>\n",
              "      <td>Principality of Andorra</td>\n",
              "      <td>AD</td>\n",
              "      <td>Euro</td>\n",
              "      <td>NaN</td>\n",
              "      <td>Europe &amp; Central Asia</td>\n",
              "      <td>High income: nonOECD</td>\n",
              "      <td>AD</td>\n",
              "      <td>2000</td>\n",
              "      <td>NaN</td>\n",
              "      <td>Value added at basic prices (VAB)</td>\n",
              "      <td>NaN</td>\n",
              "      <td>NaN</td>\n",
              "      <td>Country uses the 1968 System of National Accou...</td>\n",
              "      <td>NaN</td>\n",
              "      <td>NaN</td>\n",
              "      <td>NaN</td>\n",
              "      <td>NaN</td>\n",
              "      <td>Special trade system</td>\n",
              "      <td>NaN</td>\n",
              "      <td>NaN</td>\n",
              "      <td>2011. Population data compiled from administra...</td>\n",
              "      <td>NaN</td>\n",
              "      <td>NaN</td>\n",
              "      <td>Yes</td>\n",
              "      <td>NaN</td>\n",
              "      <td>NaN</td>\n",
              "      <td>2006.0</td>\n",
              "      <td>NaN</td>\n",
              "    </tr>\n",
              "  </tbody>\n",
              "</table>\n",
              "</div>"
            ],
            "text/plain": [
              "  CountryCode       ShortName  ... LatestTradeData LatestWaterWithdrawalData\n",
              "0         AFG     Afghanistan  ...          2013.0                    2000.0\n",
              "1         ALB         Albania  ...          2013.0                    2006.0\n",
              "2         DZA         Algeria  ...          2013.0                    2001.0\n",
              "3         ASM  American Samoa  ...             NaN                       NaN\n",
              "4         ADO         Andorra  ...          2006.0                       NaN\n",
              "\n",
              "[5 rows x 31 columns]"
            ]
          },
          "metadata": {
            "tags": []
          },
          "execution_count": 2
        }
      ]
    },
    {
      "cell_type": "code",
      "metadata": {
        "colab": {
          "base_uri": "https://localhost:8080/",
          "height": 297
        },
        "id": "NDDmFPd-jfQ2",
        "outputId": "efaeba29-1258-4771-8bd7-faecce674169"
      },
      "source": [
        "happiness2015= pd.read_csv(\"/content/World_Happiness_2015.csv\")\n",
        "happiness2015.head()"
      ],
      "execution_count": 3,
      "outputs": [
        {
          "output_type": "execute_result",
          "data": {
            "text/html": [
              "<div>\n",
              "<style scoped>\n",
              "    .dataframe tbody tr th:only-of-type {\n",
              "        vertical-align: middle;\n",
              "    }\n",
              "\n",
              "    .dataframe tbody tr th {\n",
              "        vertical-align: top;\n",
              "    }\n",
              "\n",
              "    .dataframe thead th {\n",
              "        text-align: right;\n",
              "    }\n",
              "</style>\n",
              "<table border=\"1\" class=\"dataframe\">\n",
              "  <thead>\n",
              "    <tr style=\"text-align: right;\">\n",
              "      <th></th>\n",
              "      <th>Country</th>\n",
              "      <th>Region</th>\n",
              "      <th>Happiness Rank</th>\n",
              "      <th>Happiness Score</th>\n",
              "      <th>Standard Error</th>\n",
              "      <th>Economy (GDP per Capita)</th>\n",
              "      <th>Family</th>\n",
              "      <th>Health (Life Expectancy)</th>\n",
              "      <th>Freedom</th>\n",
              "      <th>Trust (Government Corruption)</th>\n",
              "      <th>Generosity</th>\n",
              "      <th>Dystopia Residual</th>\n",
              "    </tr>\n",
              "  </thead>\n",
              "  <tbody>\n",
              "    <tr>\n",
              "      <th>0</th>\n",
              "      <td>Switzerland</td>\n",
              "      <td>Western Europe</td>\n",
              "      <td>1</td>\n",
              "      <td>7.587</td>\n",
              "      <td>0.03411</td>\n",
              "      <td>1.39651</td>\n",
              "      <td>1.34951</td>\n",
              "      <td>0.94143</td>\n",
              "      <td>0.66557</td>\n",
              "      <td>0.41978</td>\n",
              "      <td>0.29678</td>\n",
              "      <td>2.51738</td>\n",
              "    </tr>\n",
              "    <tr>\n",
              "      <th>1</th>\n",
              "      <td>Iceland</td>\n",
              "      <td>Western Europe</td>\n",
              "      <td>2</td>\n",
              "      <td>7.561</td>\n",
              "      <td>0.04884</td>\n",
              "      <td>1.30232</td>\n",
              "      <td>1.40223</td>\n",
              "      <td>0.94784</td>\n",
              "      <td>0.62877</td>\n",
              "      <td>0.14145</td>\n",
              "      <td>0.43630</td>\n",
              "      <td>2.70201</td>\n",
              "    </tr>\n",
              "    <tr>\n",
              "      <th>2</th>\n",
              "      <td>Denmark</td>\n",
              "      <td>Western Europe</td>\n",
              "      <td>3</td>\n",
              "      <td>7.527</td>\n",
              "      <td>0.03328</td>\n",
              "      <td>1.32548</td>\n",
              "      <td>1.36058</td>\n",
              "      <td>0.87464</td>\n",
              "      <td>0.64938</td>\n",
              "      <td>0.48357</td>\n",
              "      <td>0.34139</td>\n",
              "      <td>2.49204</td>\n",
              "    </tr>\n",
              "    <tr>\n",
              "      <th>3</th>\n",
              "      <td>Norway</td>\n",
              "      <td>Western Europe</td>\n",
              "      <td>4</td>\n",
              "      <td>7.522</td>\n",
              "      <td>0.03880</td>\n",
              "      <td>1.45900</td>\n",
              "      <td>1.33095</td>\n",
              "      <td>0.88521</td>\n",
              "      <td>0.66973</td>\n",
              "      <td>0.36503</td>\n",
              "      <td>0.34699</td>\n",
              "      <td>2.46531</td>\n",
              "    </tr>\n",
              "    <tr>\n",
              "      <th>4</th>\n",
              "      <td>Canada</td>\n",
              "      <td>North America</td>\n",
              "      <td>5</td>\n",
              "      <td>7.427</td>\n",
              "      <td>0.03553</td>\n",
              "      <td>1.32629</td>\n",
              "      <td>1.32261</td>\n",
              "      <td>0.90563</td>\n",
              "      <td>0.63297</td>\n",
              "      <td>0.32957</td>\n",
              "      <td>0.45811</td>\n",
              "      <td>2.45176</td>\n",
              "    </tr>\n",
              "  </tbody>\n",
              "</table>\n",
              "</div>"
            ],
            "text/plain": [
              "       Country          Region  ...  Generosity  Dystopia Residual\n",
              "0  Switzerland  Western Europe  ...     0.29678            2.51738\n",
              "1      Iceland  Western Europe  ...     0.43630            2.70201\n",
              "2      Denmark  Western Europe  ...     0.34139            2.49204\n",
              "3       Norway  Western Europe  ...     0.34699            2.46531\n",
              "4       Canada   North America  ...     0.45811            2.45176\n",
              "\n",
              "[5 rows x 12 columns]"
            ]
          },
          "metadata": {
            "tags": []
          },
          "execution_count": 3
        }
      ]
    },
    {
      "cell_type": "code",
      "metadata": {
        "id": "1PFVHn6qjyBP"
      },
      "source": [
        "col_renaming = {'SourceOfMostRecentIncomeAndExpenditureData': 'IESurvey'}"
      ],
      "execution_count": 4,
      "outputs": []
    },
    {
      "cell_type": "code",
      "metadata": {
        "id": "MT9ztV5okWJY"
      },
      "source": [
        "merged= pd.merge(left=happiness2015, right=world_dev, left_on= 'Country',  right_on='ShortName', how='left')"
      ],
      "execution_count": 5,
      "outputs": []
    },
    {
      "cell_type": "code",
      "metadata": {
        "id": "h9Q9CLlKlCHv"
      },
      "source": [
        "merged.rename(col_renaming, axis=1, inplace=True)"
      ],
      "execution_count": 6,
      "outputs": []
    },
    {
      "cell_type": "code",
      "metadata": {
        "colab": {
          "base_uri": "https://localhost:8080/",
          "height": 501
        },
        "id": "kfzOhQcdlI6e",
        "outputId": "3212efd0-1f47-468c-99e8-0c287bb419a6"
      },
      "source": [
        "merged.head()"
      ],
      "execution_count": 7,
      "outputs": [
        {
          "output_type": "execute_result",
          "data": {
            "text/html": [
              "<div>\n",
              "<style scoped>\n",
              "    .dataframe tbody tr th:only-of-type {\n",
              "        vertical-align: middle;\n",
              "    }\n",
              "\n",
              "    .dataframe tbody tr th {\n",
              "        vertical-align: top;\n",
              "    }\n",
              "\n",
              "    .dataframe thead th {\n",
              "        text-align: right;\n",
              "    }\n",
              "</style>\n",
              "<table border=\"1\" class=\"dataframe\">\n",
              "  <thead>\n",
              "    <tr style=\"text-align: right;\">\n",
              "      <th></th>\n",
              "      <th>Country</th>\n",
              "      <th>Region_x</th>\n",
              "      <th>Happiness Rank</th>\n",
              "      <th>Happiness Score</th>\n",
              "      <th>Standard Error</th>\n",
              "      <th>Economy (GDP per Capita)</th>\n",
              "      <th>Family</th>\n",
              "      <th>Health (Life Expectancy)</th>\n",
              "      <th>Freedom</th>\n",
              "      <th>Trust (Government Corruption)</th>\n",
              "      <th>Generosity</th>\n",
              "      <th>Dystopia Residual</th>\n",
              "      <th>CountryCode</th>\n",
              "      <th>ShortName</th>\n",
              "      <th>TableName</th>\n",
              "      <th>LongName</th>\n",
              "      <th>Alpha2Code</th>\n",
              "      <th>CurrencyUnit</th>\n",
              "      <th>SpecialNotes</th>\n",
              "      <th>Region_y</th>\n",
              "      <th>IncomeGroup</th>\n",
              "      <th>Wb2Code</th>\n",
              "      <th>NationalAccountsBaseYear</th>\n",
              "      <th>NationalAccountsReferenceYear</th>\n",
              "      <th>SnaPriceValuation</th>\n",
              "      <th>LendingCategory</th>\n",
              "      <th>OtherGroups</th>\n",
              "      <th>SystemOfNationalAccounts</th>\n",
              "      <th>AlternativeConversionFactor</th>\n",
              "      <th>PppSurveyYear</th>\n",
              "      <th>BalanceOfPaymentsManualInUse</th>\n",
              "      <th>ExternalDebtReportingStatus</th>\n",
              "      <th>SystemOfTrade</th>\n",
              "      <th>GovernmentAccountingConcept</th>\n",
              "      <th>ImfDataDisseminationStandard</th>\n",
              "      <th>LatestPopulationCensus</th>\n",
              "      <th>LatestHouseholdSurvey</th>\n",
              "      <th>IESurvey</th>\n",
              "      <th>VitalRegistrationComplete</th>\n",
              "      <th>LatestAgriculturalCensus</th>\n",
              "      <th>LatestIndustrialData</th>\n",
              "      <th>LatestTradeData</th>\n",
              "      <th>LatestWaterWithdrawalData</th>\n",
              "    </tr>\n",
              "  </thead>\n",
              "  <tbody>\n",
              "    <tr>\n",
              "      <th>0</th>\n",
              "      <td>Switzerland</td>\n",
              "      <td>Western Europe</td>\n",
              "      <td>1</td>\n",
              "      <td>7.587</td>\n",
              "      <td>0.03411</td>\n",
              "      <td>1.39651</td>\n",
              "      <td>1.34951</td>\n",
              "      <td>0.94143</td>\n",
              "      <td>0.66557</td>\n",
              "      <td>0.41978</td>\n",
              "      <td>0.29678</td>\n",
              "      <td>2.51738</td>\n",
              "      <td>CHE</td>\n",
              "      <td>Switzerland</td>\n",
              "      <td>Switzerland</td>\n",
              "      <td>Switzerland</td>\n",
              "      <td>CH</td>\n",
              "      <td>Swiss franc</td>\n",
              "      <td>NaN</td>\n",
              "      <td>Europe &amp; Central Asia</td>\n",
              "      <td>High income: OECD</td>\n",
              "      <td>CH</td>\n",
              "      <td>Original chained constant price data are resca...</td>\n",
              "      <td>2010</td>\n",
              "      <td>Value added at basic prices (VAB)</td>\n",
              "      <td>NaN</td>\n",
              "      <td>NaN</td>\n",
              "      <td>Country uses the 2008 System of National Accou...</td>\n",
              "      <td>NaN</td>\n",
              "      <td>Rolling</td>\n",
              "      <td>IMF Balance of Payments Manual, 6th edition.</td>\n",
              "      <td>NaN</td>\n",
              "      <td>Special trade system</td>\n",
              "      <td>Consolidated central government</td>\n",
              "      <td>Special Data Dissemination Standard (SDDS)</td>\n",
              "      <td>2010</td>\n",
              "      <td>NaN</td>\n",
              "      <td>Expenditure survey/budget survey (ES/BS), 2004</td>\n",
              "      <td>Yes</td>\n",
              "      <td>2008</td>\n",
              "      <td>2010.0</td>\n",
              "      <td>2013.0</td>\n",
              "      <td>2000.0</td>\n",
              "    </tr>\n",
              "    <tr>\n",
              "      <th>1</th>\n",
              "      <td>Iceland</td>\n",
              "      <td>Western Europe</td>\n",
              "      <td>2</td>\n",
              "      <td>7.561</td>\n",
              "      <td>0.04884</td>\n",
              "      <td>1.30232</td>\n",
              "      <td>1.40223</td>\n",
              "      <td>0.94784</td>\n",
              "      <td>0.62877</td>\n",
              "      <td>0.14145</td>\n",
              "      <td>0.43630</td>\n",
              "      <td>2.70201</td>\n",
              "      <td>ISL</td>\n",
              "      <td>Iceland</td>\n",
              "      <td>Iceland</td>\n",
              "      <td>Republic of Iceland</td>\n",
              "      <td>IS</td>\n",
              "      <td>Iceland krona</td>\n",
              "      <td>NaN</td>\n",
              "      <td>Europe &amp; Central Asia</td>\n",
              "      <td>High income: OECD</td>\n",
              "      <td>IS</td>\n",
              "      <td>Original chained constant price data are resca...</td>\n",
              "      <td>2010</td>\n",
              "      <td>Value added at basic prices (VAB)</td>\n",
              "      <td>NaN</td>\n",
              "      <td>NaN</td>\n",
              "      <td>Country uses the 2008 System of National Accou...</td>\n",
              "      <td>NaN</td>\n",
              "      <td>Rolling</td>\n",
              "      <td>IMF Balance of Payments Manual, 6th edition.</td>\n",
              "      <td>NaN</td>\n",
              "      <td>General trade system</td>\n",
              "      <td>Consolidated central government</td>\n",
              "      <td>Special Data Dissemination Standard (SDDS)</td>\n",
              "      <td>2011</td>\n",
              "      <td>NaN</td>\n",
              "      <td>Integrated household survey (IHS), 2010</td>\n",
              "      <td>Yes</td>\n",
              "      <td>2010</td>\n",
              "      <td>2005.0</td>\n",
              "      <td>2013.0</td>\n",
              "      <td>2005.0</td>\n",
              "    </tr>\n",
              "    <tr>\n",
              "      <th>2</th>\n",
              "      <td>Denmark</td>\n",
              "      <td>Western Europe</td>\n",
              "      <td>3</td>\n",
              "      <td>7.527</td>\n",
              "      <td>0.03328</td>\n",
              "      <td>1.32548</td>\n",
              "      <td>1.36058</td>\n",
              "      <td>0.87464</td>\n",
              "      <td>0.64938</td>\n",
              "      <td>0.48357</td>\n",
              "      <td>0.34139</td>\n",
              "      <td>2.49204</td>\n",
              "      <td>DNK</td>\n",
              "      <td>Denmark</td>\n",
              "      <td>Denmark</td>\n",
              "      <td>Kingdom of Denmark</td>\n",
              "      <td>DK</td>\n",
              "      <td>Danish krone</td>\n",
              "      <td>NaN</td>\n",
              "      <td>Europe &amp; Central Asia</td>\n",
              "      <td>High income: OECD</td>\n",
              "      <td>DK</td>\n",
              "      <td>Original chained constant price data are resca...</td>\n",
              "      <td>2010</td>\n",
              "      <td>Value added at basic prices (VAB)</td>\n",
              "      <td>NaN</td>\n",
              "      <td>NaN</td>\n",
              "      <td>Country uses the 2008 System of National Accou...</td>\n",
              "      <td>NaN</td>\n",
              "      <td>Rolling</td>\n",
              "      <td>IMF Balance of Payments Manual, 6th edition.</td>\n",
              "      <td>NaN</td>\n",
              "      <td>Special trade system</td>\n",
              "      <td>Consolidated central government</td>\n",
              "      <td>Special Data Dissemination Standard (SDDS)</td>\n",
              "      <td>2011</td>\n",
              "      <td>NaN</td>\n",
              "      <td>Income tax registers (ITR), 2010</td>\n",
              "      <td>Yes</td>\n",
              "      <td>2010</td>\n",
              "      <td>2010.0</td>\n",
              "      <td>2013.0</td>\n",
              "      <td>2009.0</td>\n",
              "    </tr>\n",
              "    <tr>\n",
              "      <th>3</th>\n",
              "      <td>Norway</td>\n",
              "      <td>Western Europe</td>\n",
              "      <td>4</td>\n",
              "      <td>7.522</td>\n",
              "      <td>0.03880</td>\n",
              "      <td>1.45900</td>\n",
              "      <td>1.33095</td>\n",
              "      <td>0.88521</td>\n",
              "      <td>0.66973</td>\n",
              "      <td>0.36503</td>\n",
              "      <td>0.34699</td>\n",
              "      <td>2.46531</td>\n",
              "      <td>NOR</td>\n",
              "      <td>Norway</td>\n",
              "      <td>Norway</td>\n",
              "      <td>Kingdom of Norway</td>\n",
              "      <td>NO</td>\n",
              "      <td>Norwegian krone</td>\n",
              "      <td>NaN</td>\n",
              "      <td>Europe &amp; Central Asia</td>\n",
              "      <td>High income: OECD</td>\n",
              "      <td>NO</td>\n",
              "      <td>Original chained constant price data are resca...</td>\n",
              "      <td>2010</td>\n",
              "      <td>Value added at basic prices (VAB)</td>\n",
              "      <td>NaN</td>\n",
              "      <td>NaN</td>\n",
              "      <td>Country uses the 2008 System of National Accou...</td>\n",
              "      <td>NaN</td>\n",
              "      <td>Rolling</td>\n",
              "      <td>IMF Balance of Payments Manual, 6th edition.</td>\n",
              "      <td>NaN</td>\n",
              "      <td>General trade system</td>\n",
              "      <td>Consolidated central government</td>\n",
              "      <td>Special Data Dissemination Standard (SDDS)</td>\n",
              "      <td>2011</td>\n",
              "      <td>NaN</td>\n",
              "      <td>Income survey (IS), 2010</td>\n",
              "      <td>Yes</td>\n",
              "      <td>2010</td>\n",
              "      <td>2010.0</td>\n",
              "      <td>2013.0</td>\n",
              "      <td>2006.0</td>\n",
              "    </tr>\n",
              "    <tr>\n",
              "      <th>4</th>\n",
              "      <td>Canada</td>\n",
              "      <td>North America</td>\n",
              "      <td>5</td>\n",
              "      <td>7.427</td>\n",
              "      <td>0.03553</td>\n",
              "      <td>1.32629</td>\n",
              "      <td>1.32261</td>\n",
              "      <td>0.90563</td>\n",
              "      <td>0.63297</td>\n",
              "      <td>0.32957</td>\n",
              "      <td>0.45811</td>\n",
              "      <td>2.45176</td>\n",
              "      <td>CAN</td>\n",
              "      <td>Canada</td>\n",
              "      <td>Canada</td>\n",
              "      <td>Canada</td>\n",
              "      <td>CA</td>\n",
              "      <td>Canadian dollar</td>\n",
              "      <td>Fiscal year end: March 31; reporting period fo...</td>\n",
              "      <td>North America</td>\n",
              "      <td>High income: OECD</td>\n",
              "      <td>CA</td>\n",
              "      <td>Original chained constant price data are resca...</td>\n",
              "      <td>2010</td>\n",
              "      <td>Value added at basic prices (VAB)</td>\n",
              "      <td>NaN</td>\n",
              "      <td>NaN</td>\n",
              "      <td>Country uses the 2008 System of National Accou...</td>\n",
              "      <td>NaN</td>\n",
              "      <td>2011</td>\n",
              "      <td>IMF Balance of Payments Manual, 6th edition.</td>\n",
              "      <td>NaN</td>\n",
              "      <td>General trade system</td>\n",
              "      <td>Consolidated central government</td>\n",
              "      <td>Special Data Dissemination Standard (SDDS)</td>\n",
              "      <td>2011</td>\n",
              "      <td>NaN</td>\n",
              "      <td>Labor force survey (LFS), 2010</td>\n",
              "      <td>Yes</td>\n",
              "      <td>2011</td>\n",
              "      <td>2011.0</td>\n",
              "      <td>2013.0</td>\n",
              "      <td>1986.0</td>\n",
              "    </tr>\n",
              "  </tbody>\n",
              "</table>\n",
              "</div>"
            ],
            "text/plain": [
              "       Country        Region_x  ...  LatestTradeData  LatestWaterWithdrawalData\n",
              "0  Switzerland  Western Europe  ...           2013.0                     2000.0\n",
              "1      Iceland  Western Europe  ...           2013.0                     2005.0\n",
              "2      Denmark  Western Europe  ...           2013.0                     2009.0\n",
              "3       Norway  Western Europe  ...           2013.0                     2006.0\n",
              "4       Canada   North America  ...           2013.0                     1986.0\n",
              "\n",
              "[5 rows x 43 columns]"
            ]
          },
          "metadata": {
            "tags": []
          },
          "execution_count": 7
        }
      ]
    },
    {
      "cell_type": "code",
      "metadata": {
        "colab": {
          "base_uri": "https://localhost:8080/"
        },
        "id": "fayzZUzglLGZ",
        "outputId": "72dbaac6-0c84-4baf-ea92-cfe88e6bf221"
      },
      "source": [
        "def extract_last_word(element):\n",
        "    after_split= str(element).split()\n",
        "    return after_split[-1]\n",
        "merged['Currency Apply']= merged['CurrencyUnit'].apply(extract_last_word)\n",
        "print(merged['Currency Apply'].head())"
      ],
      "execution_count": 8,
      "outputs": [
        {
          "output_type": "stream",
          "text": [
            "0     franc\n",
            "1     krona\n",
            "2     krone\n",
            "3     krone\n",
            "4    dollar\n",
            "Name: Currency Apply, dtype: object\n"
          ],
          "name": "stdout"
        }
      ]
    },
    {
      "cell_type": "code",
      "metadata": {
        "colab": {
          "base_uri": "https://localhost:8080/"
        },
        "id": "-po7M_-KmVTK",
        "outputId": "2b341e67-5e68-49e2-cad8-065d408b0b00"
      },
      "source": [
        "merged['Currency Apply'].str[1:3].head()"
      ],
      "execution_count": 9,
      "outputs": [
        {
          "output_type": "execute_result",
          "data": {
            "text/plain": [
              "0    ra\n",
              "1    ro\n",
              "2    ro\n",
              "3    ro\n",
              "4    ol\n",
              "Name: Currency Apply, dtype: object"
            ]
          },
          "metadata": {
            "tags": []
          },
          "execution_count": 9
        }
      ]
    },
    {
      "cell_type": "code",
      "metadata": {
        "colab": {
          "base_uri": "https://localhost:8080/"
        },
        "id": "I-Z0RR4WobCy",
        "outputId": "6538447a-09e9-464e-839f-3ba0d8fc0123"
      },
      "source": [
        "merged['CurrencyUnit'].str.upper().str.split().head()"
      ],
      "execution_count": 10,
      "outputs": [
        {
          "output_type": "execute_result",
          "data": {
            "text/plain": [
              "0        [SWISS, FRANC]\n",
              "1      [ICELAND, KRONA]\n",
              "2       [DANISH, KRONE]\n",
              "3    [NORWEGIAN, KRONE]\n",
              "4    [CANADIAN, DOLLAR]\n",
              "Name: CurrencyUnit, dtype: object"
            ]
          },
          "metadata": {
            "tags": []
          },
          "execution_count": 10
        }
      ]
    },
    {
      "cell_type": "code",
      "metadata": {
        "colab": {
          "base_uri": "https://localhost:8080/"
        },
        "id": "RLmu6eEXotdR",
        "outputId": "bb042544-01cc-450c-fb92-f9a1356809f9"
      },
      "source": [
        "merged['Currency Vectorized']= merged['CurrencyUnit'].str.split().str.get(-1)\n",
        "print(merged['Currency Vectorized'].head())"
      ],
      "execution_count": 11,
      "outputs": [
        {
          "output_type": "stream",
          "text": [
            "0     franc\n",
            "1     krona\n",
            "2     krone\n",
            "3     krone\n",
            "4    dollar\n",
            "Name: Currency Vectorized, dtype: object\n"
          ],
          "name": "stdout"
        }
      ]
    },
    {
      "cell_type": "code",
      "metadata": {
        "id": "YTF1YOSHp-uO",
        "colab": {
          "base_uri": "https://localhost:8080/"
        },
        "outputId": "476c0887-9965-49b5-ceab-2b82c045c432"
      },
      "source": [
        "def compute_lengths(element):\n",
        "    return len(str(element))\n",
        "lengths_apply = merged['CurrencyUnit'].apply(compute_lengths)\n",
        "lengths_apply.value_counts(dropna=False)"
      ],
      "execution_count": 12,
      "outputs": [
        {
          "output_type": "execute_result",
          "data": {
            "text/plain": [
              "14    21\n",
              "4     20\n",
              "12    17\n",
              "13    14\n",
              "3     13\n",
              "15    13\n",
              "16    12\n",
              "18     9\n",
              "17     9\n",
              "11     8\n",
              "22     7\n",
              "25     5\n",
              "19     3\n",
              "9      2\n",
              "26     1\n",
              "20     1\n",
              "23     1\n",
              "10     1\n",
              "39     1\n",
              "Name: CurrencyUnit, dtype: int64"
            ]
          },
          "metadata": {
            "tags": []
          },
          "execution_count": 12
        }
      ]
    },
    {
      "cell_type": "code",
      "metadata": {
        "colab": {
          "base_uri": "https://localhost:8080/"
        },
        "id": "UsMqmx-h5GHy",
        "outputId": "cfed64cf-6c28-40da-bb65-0c3059e21948"
      },
      "source": [
        "lengths= merged['CurrencyUnit'].str.len()\n",
        "value_counts=lengths.value_counts(dropna=False)\n",
        "value_counts"
      ],
      "execution_count": 13,
      "outputs": [
        {
          "output_type": "execute_result",
          "data": {
            "text/plain": [
              "14.0    21\n",
              "4.0     20\n",
              "12.0    17\n",
              "13.0    14\n",
              "NaN     13\n",
              "15.0    13\n",
              "16.0    12\n",
              "18.0     9\n",
              "17.0     9\n",
              "11.0     8\n",
              "22.0     7\n",
              "25.0     5\n",
              "19.0     3\n",
              "9.0      2\n",
              "10.0     1\n",
              "39.0     1\n",
              "26.0     1\n",
              "23.0     1\n",
              "20.0     1\n",
              "Name: CurrencyUnit, dtype: int64"
            ]
          },
          "metadata": {
            "tags": []
          },
          "execution_count": 13
        }
      ]
    },
    {
      "cell_type": "code",
      "metadata": {
        "colab": {
          "base_uri": "https://localhost:8080/"
        },
        "id": "tWB__M2J7VsR",
        "outputId": "bd97adbc-b868-412e-8bd8-724b132a1a3b"
      },
      "source": [
        "pattern = r\"[Nn]ational accounts\"\n",
        "national_accounts= merged['SpecialNotes'].str.contains(pattern)\n",
        "print(national_accounts.head())"
      ],
      "execution_count": 14,
      "outputs": [
        {
          "output_type": "stream",
          "text": [
            "0     NaN\n",
            "1     NaN\n",
            "2     NaN\n",
            "3     NaN\n",
            "4    True\n",
            "Name: SpecialNotes, dtype: object\n"
          ],
          "name": "stdout"
        }
      ]
    },
    {
      "cell_type": "code",
      "metadata": {
        "colab": {
          "base_uri": "https://localhost:8080/"
        },
        "id": "leXltlxp9O3c",
        "outputId": "66951476-7b9d-45bf-cbe4-3e954027dad7"
      },
      "source": [
        "national_accounts.value_counts(dropna=False)"
      ],
      "execution_count": 15,
      "outputs": [
        {
          "output_type": "execute_result",
          "data": {
            "text/plain": [
              "NaN      65\n",
              "True     54\n",
              "False    39\n",
              "Name: SpecialNotes, dtype: int64"
            ]
          },
          "metadata": {
            "tags": []
          },
          "execution_count": 15
        }
      ]
    },
    {
      "cell_type": "code",
      "metadata": {
        "colab": {
          "base_uri": "https://localhost:8080/",
          "height": 551
        },
        "id": "40TDQYyI9aUB",
        "outputId": "dff51188-ba09-4046-fa4d-72d12b1a4eb3"
      },
      "source": [
        "pattern = r\"[Nn]ational accounts\"\n",
        "national_accounts= merged['SpecialNotes'].str.contains(pattern, na=False)\n",
        "merged_national_accounts=merged[national_accounts]\n",
        "merged_national_accounts.head()"
      ],
      "execution_count": 16,
      "outputs": [
        {
          "output_type": "execute_result",
          "data": {
            "text/html": [
              "<div>\n",
              "<style scoped>\n",
              "    .dataframe tbody tr th:only-of-type {\n",
              "        vertical-align: middle;\n",
              "    }\n",
              "\n",
              "    .dataframe tbody tr th {\n",
              "        vertical-align: top;\n",
              "    }\n",
              "\n",
              "    .dataframe thead th {\n",
              "        text-align: right;\n",
              "    }\n",
              "</style>\n",
              "<table border=\"1\" class=\"dataframe\">\n",
              "  <thead>\n",
              "    <tr style=\"text-align: right;\">\n",
              "      <th></th>\n",
              "      <th>Country</th>\n",
              "      <th>Region_x</th>\n",
              "      <th>Happiness Rank</th>\n",
              "      <th>Happiness Score</th>\n",
              "      <th>Standard Error</th>\n",
              "      <th>Economy (GDP per Capita)</th>\n",
              "      <th>Family</th>\n",
              "      <th>Health (Life Expectancy)</th>\n",
              "      <th>Freedom</th>\n",
              "      <th>Trust (Government Corruption)</th>\n",
              "      <th>Generosity</th>\n",
              "      <th>Dystopia Residual</th>\n",
              "      <th>CountryCode</th>\n",
              "      <th>ShortName</th>\n",
              "      <th>TableName</th>\n",
              "      <th>LongName</th>\n",
              "      <th>Alpha2Code</th>\n",
              "      <th>CurrencyUnit</th>\n",
              "      <th>SpecialNotes</th>\n",
              "      <th>Region_y</th>\n",
              "      <th>IncomeGroup</th>\n",
              "      <th>Wb2Code</th>\n",
              "      <th>NationalAccountsBaseYear</th>\n",
              "      <th>NationalAccountsReferenceYear</th>\n",
              "      <th>SnaPriceValuation</th>\n",
              "      <th>LendingCategory</th>\n",
              "      <th>OtherGroups</th>\n",
              "      <th>SystemOfNationalAccounts</th>\n",
              "      <th>AlternativeConversionFactor</th>\n",
              "      <th>PppSurveyYear</th>\n",
              "      <th>BalanceOfPaymentsManualInUse</th>\n",
              "      <th>ExternalDebtReportingStatus</th>\n",
              "      <th>SystemOfTrade</th>\n",
              "      <th>GovernmentAccountingConcept</th>\n",
              "      <th>ImfDataDisseminationStandard</th>\n",
              "      <th>LatestPopulationCensus</th>\n",
              "      <th>LatestHouseholdSurvey</th>\n",
              "      <th>IESurvey</th>\n",
              "      <th>VitalRegistrationComplete</th>\n",
              "      <th>LatestAgriculturalCensus</th>\n",
              "      <th>LatestIndustrialData</th>\n",
              "      <th>LatestTradeData</th>\n",
              "      <th>LatestWaterWithdrawalData</th>\n",
              "      <th>Currency Apply</th>\n",
              "      <th>Currency Vectorized</th>\n",
              "    </tr>\n",
              "  </thead>\n",
              "  <tbody>\n",
              "    <tr>\n",
              "      <th>4</th>\n",
              "      <td>Canada</td>\n",
              "      <td>North America</td>\n",
              "      <td>5</td>\n",
              "      <td>7.427</td>\n",
              "      <td>0.03553</td>\n",
              "      <td>1.32629</td>\n",
              "      <td>1.32261</td>\n",
              "      <td>0.90563</td>\n",
              "      <td>0.63297</td>\n",
              "      <td>0.32957</td>\n",
              "      <td>0.45811</td>\n",
              "      <td>2.45176</td>\n",
              "      <td>CAN</td>\n",
              "      <td>Canada</td>\n",
              "      <td>Canada</td>\n",
              "      <td>Canada</td>\n",
              "      <td>CA</td>\n",
              "      <td>Canadian dollar</td>\n",
              "      <td>Fiscal year end: March 31; reporting period fo...</td>\n",
              "      <td>North America</td>\n",
              "      <td>High income: OECD</td>\n",
              "      <td>CA</td>\n",
              "      <td>Original chained constant price data are resca...</td>\n",
              "      <td>2010</td>\n",
              "      <td>Value added at basic prices (VAB)</td>\n",
              "      <td>NaN</td>\n",
              "      <td>NaN</td>\n",
              "      <td>Country uses the 2008 System of National Accou...</td>\n",
              "      <td>NaN</td>\n",
              "      <td>2011</td>\n",
              "      <td>IMF Balance of Payments Manual, 6th edition.</td>\n",
              "      <td>NaN</td>\n",
              "      <td>General trade system</td>\n",
              "      <td>Consolidated central government</td>\n",
              "      <td>Special Data Dissemination Standard (SDDS)</td>\n",
              "      <td>2011</td>\n",
              "      <td>NaN</td>\n",
              "      <td>Labor force survey (LFS), 2010</td>\n",
              "      <td>Yes</td>\n",
              "      <td>2011</td>\n",
              "      <td>2011.0</td>\n",
              "      <td>2013.0</td>\n",
              "      <td>1986.0</td>\n",
              "      <td>dollar</td>\n",
              "      <td>dollar</td>\n",
              "    </tr>\n",
              "    <tr>\n",
              "      <th>7</th>\n",
              "      <td>Sweden</td>\n",
              "      <td>Western Europe</td>\n",
              "      <td>8</td>\n",
              "      <td>7.364</td>\n",
              "      <td>0.03157</td>\n",
              "      <td>1.33171</td>\n",
              "      <td>1.28907</td>\n",
              "      <td>0.91087</td>\n",
              "      <td>0.65980</td>\n",
              "      <td>0.43844</td>\n",
              "      <td>0.36262</td>\n",
              "      <td>2.37119</td>\n",
              "      <td>SWE</td>\n",
              "      <td>Sweden</td>\n",
              "      <td>Sweden</td>\n",
              "      <td>Kingdom of Sweden</td>\n",
              "      <td>SE</td>\n",
              "      <td>Swedish krona</td>\n",
              "      <td>Fiscal year end: June 30; reporting period for...</td>\n",
              "      <td>Europe &amp; Central Asia</td>\n",
              "      <td>High income: OECD</td>\n",
              "      <td>SE</td>\n",
              "      <td>Original chained constant price data are resca...</td>\n",
              "      <td>2010</td>\n",
              "      <td>Value added at basic prices (VAB)</td>\n",
              "      <td>NaN</td>\n",
              "      <td>NaN</td>\n",
              "      <td>Country uses the 2008 System of National Accou...</td>\n",
              "      <td>NaN</td>\n",
              "      <td>Rolling</td>\n",
              "      <td>IMF Balance of Payments Manual, 6th edition.</td>\n",
              "      <td>NaN</td>\n",
              "      <td>General trade system</td>\n",
              "      <td>Consolidated central government</td>\n",
              "      <td>Special Data Dissemination Standard (SDDS)</td>\n",
              "      <td>2011</td>\n",
              "      <td>NaN</td>\n",
              "      <td>Income survey (IS), 2005</td>\n",
              "      <td>Yes</td>\n",
              "      <td>2010</td>\n",
              "      <td>2010.0</td>\n",
              "      <td>2013.0</td>\n",
              "      <td>2007.0</td>\n",
              "      <td>krona</td>\n",
              "      <td>krona</td>\n",
              "    </tr>\n",
              "    <tr>\n",
              "      <th>8</th>\n",
              "      <td>New Zealand</td>\n",
              "      <td>Australia and New Zealand</td>\n",
              "      <td>9</td>\n",
              "      <td>7.286</td>\n",
              "      <td>0.03371</td>\n",
              "      <td>1.25018</td>\n",
              "      <td>1.31967</td>\n",
              "      <td>0.90837</td>\n",
              "      <td>0.63938</td>\n",
              "      <td>0.42922</td>\n",
              "      <td>0.47501</td>\n",
              "      <td>2.26425</td>\n",
              "      <td>NZL</td>\n",
              "      <td>New Zealand</td>\n",
              "      <td>New Zealand</td>\n",
              "      <td>New Zealand</td>\n",
              "      <td>NZ</td>\n",
              "      <td>New Zealand dollar</td>\n",
              "      <td>Fiscal year end: March 31; reporting period fo...</td>\n",
              "      <td>East Asia &amp; Pacific</td>\n",
              "      <td>High income: OECD</td>\n",
              "      <td>NZ</td>\n",
              "      <td>Original chained constant price data are resca...</td>\n",
              "      <td>2010</td>\n",
              "      <td>Value added at basic prices (VAB)</td>\n",
              "      <td>NaN</td>\n",
              "      <td>NaN</td>\n",
              "      <td>Country uses the 2008 System of National Accou...</td>\n",
              "      <td>NaN</td>\n",
              "      <td>2011</td>\n",
              "      <td>IMF Balance of Payments Manual, 6th edition.</td>\n",
              "      <td>NaN</td>\n",
              "      <td>General trade system</td>\n",
              "      <td>Consolidated central government</td>\n",
              "      <td>NaN</td>\n",
              "      <td>2013</td>\n",
              "      <td>NaN</td>\n",
              "      <td>NaN</td>\n",
              "      <td>Yes</td>\n",
              "      <td>2012</td>\n",
              "      <td>2010.0</td>\n",
              "      <td>2013.0</td>\n",
              "      <td>2002.0</td>\n",
              "      <td>dollar</td>\n",
              "      <td>dollar</td>\n",
              "    </tr>\n",
              "    <tr>\n",
              "      <th>9</th>\n",
              "      <td>Australia</td>\n",
              "      <td>Australia and New Zealand</td>\n",
              "      <td>10</td>\n",
              "      <td>7.284</td>\n",
              "      <td>0.04083</td>\n",
              "      <td>1.33358</td>\n",
              "      <td>1.30923</td>\n",
              "      <td>0.93156</td>\n",
              "      <td>0.65124</td>\n",
              "      <td>0.35637</td>\n",
              "      <td>0.43562</td>\n",
              "      <td>2.26646</td>\n",
              "      <td>AUS</td>\n",
              "      <td>Australia</td>\n",
              "      <td>Australia</td>\n",
              "      <td>Commonwealth of Australia</td>\n",
              "      <td>AU</td>\n",
              "      <td>Australian dollar</td>\n",
              "      <td>Fiscal year end: June 30; reporting period for...</td>\n",
              "      <td>East Asia &amp; Pacific</td>\n",
              "      <td>High income: OECD</td>\n",
              "      <td>AU</td>\n",
              "      <td>Original chained constant price data are resca...</td>\n",
              "      <td>2013/14</td>\n",
              "      <td>Value added at basic prices (VAB)</td>\n",
              "      <td>NaN</td>\n",
              "      <td>NaN</td>\n",
              "      <td>Country uses the 2008 System of National Accou...</td>\n",
              "      <td>NaN</td>\n",
              "      <td>2011</td>\n",
              "      <td>IMF Balance of Payments Manual, 6th edition.</td>\n",
              "      <td>NaN</td>\n",
              "      <td>General trade system</td>\n",
              "      <td>Consolidated central government</td>\n",
              "      <td>Special Data Dissemination Standard (SDDS)</td>\n",
              "      <td>2011</td>\n",
              "      <td>NaN</td>\n",
              "      <td>Expenditure survey/budget survey (ES/BS), 2003</td>\n",
              "      <td>Yes</td>\n",
              "      <td>2011</td>\n",
              "      <td>2011.0</td>\n",
              "      <td>2013.0</td>\n",
              "      <td>2000.0</td>\n",
              "      <td>dollar</td>\n",
              "      <td>dollar</td>\n",
              "    </tr>\n",
              "    <tr>\n",
              "      <th>14</th>\n",
              "      <td>United States</td>\n",
              "      <td>North America</td>\n",
              "      <td>15</td>\n",
              "      <td>7.119</td>\n",
              "      <td>0.03839</td>\n",
              "      <td>1.39451</td>\n",
              "      <td>1.24711</td>\n",
              "      <td>0.86179</td>\n",
              "      <td>0.54604</td>\n",
              "      <td>0.15890</td>\n",
              "      <td>0.40105</td>\n",
              "      <td>2.51011</td>\n",
              "      <td>USA</td>\n",
              "      <td>United States</td>\n",
              "      <td>United States</td>\n",
              "      <td>United States of America</td>\n",
              "      <td>US</td>\n",
              "      <td>U.S. dollar</td>\n",
              "      <td>Fiscal year end: September 30; reporting perio...</td>\n",
              "      <td>North America</td>\n",
              "      <td>High income: OECD</td>\n",
              "      <td>US</td>\n",
              "      <td>Original chained constant price data are resca...</td>\n",
              "      <td>2010</td>\n",
              "      <td>Value added at basic prices (VAB)</td>\n",
              "      <td>NaN</td>\n",
              "      <td>NaN</td>\n",
              "      <td>Country uses the 2008 System of National Accou...</td>\n",
              "      <td>NaN</td>\n",
              "      <td>2011</td>\n",
              "      <td>IMF Balance of Payments Manual, 6th edition.</td>\n",
              "      <td>NaN</td>\n",
              "      <td>General trade system</td>\n",
              "      <td>Consolidated central government</td>\n",
              "      <td>Special Data Dissemination Standard (SDDS)</td>\n",
              "      <td>2010</td>\n",
              "      <td>NaN</td>\n",
              "      <td>Labor force survey (LFS), 2010</td>\n",
              "      <td>Yes</td>\n",
              "      <td>2012</td>\n",
              "      <td>2008.0</td>\n",
              "      <td>2013.0</td>\n",
              "      <td>2005.0</td>\n",
              "      <td>dollar</td>\n",
              "      <td>dollar</td>\n",
              "    </tr>\n",
              "  </tbody>\n",
              "</table>\n",
              "</div>"
            ],
            "text/plain": [
              "          Country                   Region_x  ...  Currency Apply  Currency Vectorized\n",
              "4          Canada              North America  ...          dollar               dollar\n",
              "7          Sweden             Western Europe  ...           krona                krona\n",
              "8     New Zealand  Australia and New Zealand  ...          dollar               dollar\n",
              "9       Australia  Australia and New Zealand  ...          dollar               dollar\n",
              "14  United States              North America  ...          dollar               dollar\n",
              "\n",
              "[5 rows x 45 columns]"
            ]
          },
          "metadata": {
            "tags": []
          },
          "execution_count": 16
        }
      ]
    },
    {
      "cell_type": "code",
      "metadata": {
        "colab": {
          "base_uri": "https://localhost:8080/"
        },
        "id": "QPqVewWC_Xya",
        "outputId": "3ea9cc41-4c91-467b-daf8-55d6e5bdc631"
      },
      "source": [
        "merged_national_accounts['SpecialNotes'].head()"
      ],
      "execution_count": 17,
      "outputs": [
        {
          "output_type": "execute_result",
          "data": {
            "text/plain": [
              "4     Fiscal year end: March 31; reporting period fo...\n",
              "7     Fiscal year end: June 30; reporting period for...\n",
              "8     Fiscal year end: March 31; reporting period fo...\n",
              "9     Fiscal year end: June 30; reporting period for...\n",
              "14    Fiscal year end: September 30; reporting perio...\n",
              "Name: SpecialNotes, dtype: object"
            ]
          },
          "metadata": {
            "tags": []
          },
          "execution_count": 17
        }
      ]
    },
    {
      "cell_type": "code",
      "metadata": {
        "colab": {
          "base_uri": "https://localhost:8080/",
          "height": 347
        },
        "id": "OXeC-vHo_vBy",
        "outputId": "e7616b42-dbbd-47b7-85a6-ed09f4287b26"
      },
      "source": [
        "pattern =r\"([1-2][0-9]{3})\"\n",
        "years=merged['SpecialNotes'].str.extract(pattern)\n",
        "years.head(10)"
      ],
      "execution_count": 18,
      "outputs": [
        {
          "output_type": "execute_result",
          "data": {
            "text/html": [
              "<div>\n",
              "<style scoped>\n",
              "    .dataframe tbody tr th:only-of-type {\n",
              "        vertical-align: middle;\n",
              "    }\n",
              "\n",
              "    .dataframe tbody tr th {\n",
              "        vertical-align: top;\n",
              "    }\n",
              "\n",
              "    .dataframe thead th {\n",
              "        text-align: right;\n",
              "    }\n",
              "</style>\n",
              "<table border=\"1\" class=\"dataframe\">\n",
              "  <thead>\n",
              "    <tr style=\"text-align: right;\">\n",
              "      <th></th>\n",
              "      <th>0</th>\n",
              "    </tr>\n",
              "  </thead>\n",
              "  <tbody>\n",
              "    <tr>\n",
              "      <th>0</th>\n",
              "      <td>NaN</td>\n",
              "    </tr>\n",
              "    <tr>\n",
              "      <th>1</th>\n",
              "      <td>NaN</td>\n",
              "    </tr>\n",
              "    <tr>\n",
              "      <th>2</th>\n",
              "      <td>NaN</td>\n",
              "    </tr>\n",
              "    <tr>\n",
              "      <th>3</th>\n",
              "      <td>NaN</td>\n",
              "    </tr>\n",
              "    <tr>\n",
              "      <th>4</th>\n",
              "      <td>NaN</td>\n",
              "    </tr>\n",
              "    <tr>\n",
              "      <th>5</th>\n",
              "      <td>1999</td>\n",
              "    </tr>\n",
              "    <tr>\n",
              "      <th>6</th>\n",
              "      <td>1999</td>\n",
              "    </tr>\n",
              "    <tr>\n",
              "      <th>7</th>\n",
              "      <td>NaN</td>\n",
              "    </tr>\n",
              "    <tr>\n",
              "      <th>8</th>\n",
              "      <td>NaN</td>\n",
              "    </tr>\n",
              "    <tr>\n",
              "      <th>9</th>\n",
              "      <td>1990</td>\n",
              "    </tr>\n",
              "  </tbody>\n",
              "</table>\n",
              "</div>"
            ],
            "text/plain": [
              "      0\n",
              "0   NaN\n",
              "1   NaN\n",
              "2   NaN\n",
              "3   NaN\n",
              "4   NaN\n",
              "5  1999\n",
              "6  1999\n",
              "7   NaN\n",
              "8   NaN\n",
              "9  1990"
            ]
          },
          "metadata": {
            "tags": []
          },
          "execution_count": 18
        }
      ]
    },
    {
      "cell_type": "code",
      "metadata": {
        "colab": {
          "base_uri": "https://localhost:8080/"
        },
        "id": "FbBTwcG0BF-z",
        "outputId": "e69b81d9-1c04-4606-a055-132072ae933d"
      },
      "source": [
        "pattern = r\"(?P<Years>[1-2][0-9]{3})\"\n",
        "years=merged['SpecialNotes'].str.extract(pattern)\n",
        "years[\"Years\"].value_counts"
      ],
      "execution_count": 19,
      "outputs": [
        {
          "output_type": "execute_result",
          "data": {
            "text/plain": [
              "<bound method IndexOpsMixin.value_counts of 0       NaN\n",
              "1       NaN\n",
              "2       NaN\n",
              "3       NaN\n",
              "4       NaN\n",
              "       ... \n",
              "153    2006\n",
              "154     NaN\n",
              "155     NaN\n",
              "156     NaN\n",
              "157    2013\n",
              "Name: Years, Length: 158, dtype: object>"
            ]
          },
          "metadata": {
            "tags": []
          },
          "execution_count": 19
        }
      ]
    },
    {
      "cell_type": "code",
      "metadata": {
        "colab": {
          "base_uri": "https://localhost:8080/"
        },
        "id": "C1buw1xMDGm4",
        "outputId": "4d540f7a-87ec-4b7f-cbf2-288e7e8935f3"
      },
      "source": [
        "merged=merged.set_index('Country')\n",
        "pattern = r\"(?P<Years>[1-2][0-9]{3})\"\n",
        "years=merged['IESurvey'].str.extractall(pattern)\n",
        "years[\"Years\"].value_counts()"
      ],
      "execution_count": 20,
      "outputs": [
        {
          "output_type": "execute_result",
          "data": {
            "text/plain": [
              "2012    33\n",
              "2010    28\n",
              "2011    22\n",
              "2013    12\n",
              "2009     8\n",
              "2008     6\n",
              "2005     6\n",
              "2007     4\n",
              "2004     3\n",
              "2000     1\n",
              "2006     1\n",
              "1998     1\n",
              "1995     1\n",
              "1992     1\n",
              "2003     1\n",
              "1999     1\n",
              "2002     1\n",
              "Name: Years, dtype: int64"
            ]
          },
          "metadata": {
            "tags": []
          },
          "execution_count": 20
        }
      ]
    },
    {
      "cell_type": "code",
      "metadata": {
        "id": "iP9gQ4I3FL-v",
        "colab": {
          "base_uri": "https://localhost:8080/"
        },
        "outputId": "cb219c98-afea-4520-ee13-f2ea348eb711"
      },
      "source": [
        "pattern = r\"(?P<First_Year>[1-2][0-9]{3})/?(?P<Second_Year>[0-9]{2})?\"\n",
        "years=merged['IESurvey'].str.extractall(pattern)\n",
        "first_two_year= years['First_Year'].str[:2]\n",
        "years['Second_Year']= first_two_year+years['Second_Year']\n",
        "years.value_counts()"
      ],
      "execution_count": 23,
      "outputs": [
        {
          "output_type": "execute_result",
          "data": {
            "text/plain": [
              "First_Year  Second_Year\n",
              "2011        2012           6\n",
              "2010        2011           6\n",
              "2009        2010           4\n",
              "2008        2009           2\n",
              "2012        2013           1\n",
              "2005        2006           1\n",
              "dtype: int64"
            ]
          },
          "metadata": {
            "tags": []
          },
          "execution_count": 23
        }
      ]
    },
    {
      "cell_type": "code",
      "metadata": {
        "colab": {
          "base_uri": "https://localhost:8080/",
          "height": 324
        },
        "id": "5z-6TLFK2f_v",
        "outputId": "a7aca6e1-5d8d-4532-c6fa-2f457fa025b3"
      },
      "source": [
        "import matplotlib.pyplot as plt\n",
        "merged['IncomeGroup']=merged['IncomeGroup'].str.replace('income', '').str.replace(':', '').str.strip().str.upper()\n",
        "pv_incomes=merged.pivot_table(index='IncomeGroup', values='Happiness Score')\n",
        "pv_incomes.plot(kind='bar', rot=30, ylim=(0,10))\n",
        "plt.show()\n"
      ],
      "execution_count": 30,
      "outputs": [
        {
          "output_type": "display_data",
          "data": {
            "image/png": "[encoded data removed]",
            "text/plain": [
              "<Figure size 432x288 with 1 Axes>"
            ]
          },
          "metadata": {
            "tags": [],
            "needs_background": "light"
          }
        }
      ]
    },
    {
      "cell_type": "code",
      "metadata": {
        "id": "oh6O8Ouf7HKj"
      },
      "source": [
        ""
      ],
      "execution_count": null,
      "outputs": []
    }
  ]
}