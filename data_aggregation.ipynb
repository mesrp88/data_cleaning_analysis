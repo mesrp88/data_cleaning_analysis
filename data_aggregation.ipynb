{
  "nbformat": 4,
  "nbformat_minor": 0,
  "metadata": {
    "colab": {
      "name": "data_aggregation.ipynb",
      "provenance": [],
      "authorship_tag": "ABX9TyPHO9nPhopEdlu7sm2+IFpa",
      "include_colab_link": true
    },
    "kernelspec": {
      "name": "python3",
      "display_name": "Python 3"
    }
  },
  "cells": [
    {
      "cell_type": "markdown",
      "metadata": {
        "id": "view-in-github",
        "colab_type": "text"
      },
      "source": [
        "<a href=\"https://colab.research.google.com/github/mesrp88/data_cleaning_analysis/blob/main/data_aggregation.ipynb\" target=\"_parent\"><img src=\"https://colab.research.google.com/assets/colab-badge.svg\" alt=\"Open In Colab\"/></a>"
      ]
    },
    {
      "cell_type": "code",
      "metadata": {
        "id": "rm-JWFeRGcOn"
      },
      "source": [
        "import pandas as pd\r\n",
        "import  numpy as np"
      ],
      "execution_count": 2,
      "outputs": []
    },
    {
      "cell_type": "code",
      "metadata": {
        "colab": {
          "base_uri": "https://localhost:8080/",
          "height": 306
        },
        "id": "ynfO5eOCG4IL",
        "outputId": "7dc1cdc7-04b3-44b7-f455-d66432f17820"
      },
      "source": [
        "url='/content/World_Happiness_2015.csv'\r\n",
        "happiness2015= pd.read_csv(url)\r\n",
        "happiness2015.head()"
      ],
      "execution_count": 3,
      "outputs": [
        {
          "output_type": "execute_result",
          "data": {
            "text/html": [
              "<div>\n",
              "<style scoped>\n",
              "    .dataframe tbody tr th:only-of-type {\n",
              "        vertical-align: middle;\n",
              "    }\n",
              "\n",
              "    .dataframe tbody tr th {\n",
              "        vertical-align: top;\n",
              "    }\n",
              "\n",
              "    .dataframe thead th {\n",
              "        text-align: right;\n",
              "    }\n",
              "</style>\n",
              "<table border=\"1\" class=\"dataframe\">\n",
              "  <thead>\n",
              "    <tr style=\"text-align: right;\">\n",
              "      <th></th>\n",
              "      <th>Country</th>\n",
              "      <th>Region</th>\n",
              "      <th>Happiness Rank</th>\n",
              "      <th>Happiness Score</th>\n",
              "      <th>Standard Error</th>\n",
              "      <th>Economy (GDP per Capita)</th>\n",
              "      <th>Family</th>\n",
              "      <th>Health (Life Expectancy)</th>\n",
              "      <th>Freedom</th>\n",
              "      <th>Trust (Government Corruption)</th>\n",
              "      <th>Generosity</th>\n",
              "      <th>Dystopia Residual</th>\n",
              "    </tr>\n",
              "  </thead>\n",
              "  <tbody>\n",
              "    <tr>\n",
              "      <th>0</th>\n",
              "      <td>Switzerland</td>\n",
              "      <td>Western Europe</td>\n",
              "      <td>1</td>\n",
              "      <td>7.587</td>\n",
              "      <td>0.03411</td>\n",
              "      <td>1.39651</td>\n",
              "      <td>1.34951</td>\n",
              "      <td>0.94143</td>\n",
              "      <td>0.66557</td>\n",
              "      <td>0.41978</td>\n",
              "      <td>0.29678</td>\n",
              "      <td>2.51738</td>\n",
              "    </tr>\n",
              "    <tr>\n",
              "      <th>1</th>\n",
              "      <td>Iceland</td>\n",
              "      <td>Western Europe</td>\n",
              "      <td>2</td>\n",
              "      <td>7.561</td>\n",
              "      <td>0.04884</td>\n",
              "      <td>1.30232</td>\n",
              "      <td>1.40223</td>\n",
              "      <td>0.94784</td>\n",
              "      <td>0.62877</td>\n",
              "      <td>0.14145</td>\n",
              "      <td>0.43630</td>\n",
              "      <td>2.70201</td>\n",
              "    </tr>\n",
              "    <tr>\n",
              "      <th>2</th>\n",
              "      <td>Denmark</td>\n",
              "      <td>Western Europe</td>\n",
              "      <td>3</td>\n",
              "      <td>7.527</td>\n",
              "      <td>0.03328</td>\n",
              "      <td>1.32548</td>\n",
              "      <td>1.36058</td>\n",
              "      <td>0.87464</td>\n",
              "      <td>0.64938</td>\n",
              "      <td>0.48357</td>\n",
              "      <td>0.34139</td>\n",
              "      <td>2.49204</td>\n",
              "    </tr>\n",
              "    <tr>\n",
              "      <th>3</th>\n",
              "      <td>Norway</td>\n",
              "      <td>Western Europe</td>\n",
              "      <td>4</td>\n",
              "      <td>7.522</td>\n",
              "      <td>0.03880</td>\n",
              "      <td>1.45900</td>\n",
              "      <td>1.33095</td>\n",
              "      <td>0.88521</td>\n",
              "      <td>0.66973</td>\n",
              "      <td>0.36503</td>\n",
              "      <td>0.34699</td>\n",
              "      <td>2.46531</td>\n",
              "    </tr>\n",
              "    <tr>\n",
              "      <th>4</th>\n",
              "      <td>Canada</td>\n",
              "      <td>North America</td>\n",
              "      <td>5</td>\n",
              "      <td>7.427</td>\n",
              "      <td>0.03553</td>\n",
              "      <td>1.32629</td>\n",
              "      <td>1.32261</td>\n",
              "      <td>0.90563</td>\n",
              "      <td>0.63297</td>\n",
              "      <td>0.32957</td>\n",
              "      <td>0.45811</td>\n",
              "      <td>2.45176</td>\n",
              "    </tr>\n",
              "  </tbody>\n",
              "</table>\n",
              "</div>"
            ],
            "text/plain": [
              "       Country          Region  ...  Generosity  Dystopia Residual\n",
              "0  Switzerland  Western Europe  ...     0.29678            2.51738\n",
              "1      Iceland  Western Europe  ...     0.43630            2.70201\n",
              "2      Denmark  Western Europe  ...     0.34139            2.49204\n",
              "3       Norway  Western Europe  ...     0.34699            2.46531\n",
              "4       Canada   North America  ...     0.45811            2.45176\n",
              "\n",
              "[5 rows x 12 columns]"
            ]
          },
          "metadata": {
            "tags": []
          },
          "execution_count": 3
        }
      ]
    },
    {
      "cell_type": "code",
      "metadata": {
        "id": "MdgbSuusIaJd",
        "colab": {
          "base_uri": "https://localhost:8080/"
        },
        "outputId": "a26995e7-7708-4f1b-dca9-aa818cf695da"
      },
      "source": [
        "happiness2015.info()"
      ],
      "execution_count": 4,
      "outputs": [
        {
          "output_type": "stream",
          "text": [
            "<class 'pandas.core.frame.DataFrame'>\n",
            "RangeIndex: 158 entries, 0 to 157\n",
            "Data columns (total 12 columns):\n",
            " #   Column                         Non-Null Count  Dtype  \n",
            "---  ------                         --------------  -----  \n",
            " 0   Country                        158 non-null    object \n",
            " 1   Region                         158 non-null    object \n",
            " 2   Happiness Rank                 158 non-null    int64  \n",
            " 3   Happiness Score                158 non-null    float64\n",
            " 4   Standard Error                 158 non-null    float64\n",
            " 5   Economy (GDP per Capita)       158 non-null    float64\n",
            " 6   Family                         158 non-null    float64\n",
            " 7   Health (Life Expectancy)       158 non-null    float64\n",
            " 8   Freedom                        158 non-null    float64\n",
            " 9   Trust (Government Corruption)  158 non-null    float64\n",
            " 10  Generosity                     158 non-null    float64\n",
            " 11  Dystopia Residual              158 non-null    float64\n",
            "dtypes: float64(9), int64(1), object(2)\n",
            "memory usage: 14.9+ KB\n"
          ],
          "name": "stdout"
        }
      ]
    },
    {
      "cell_type": "code",
      "metadata": {
        "colab": {
          "base_uri": "https://localhost:8080/"
        },
        "id": "tpnCcD4jvofO",
        "outputId": "0c8a5aa4-d7b5-4be9-9656-214d71b1ca1a"
      },
      "source": [
        "happiness2015['Region'].unique()"
      ],
      "execution_count": 5,
      "outputs": [
        {
          "output_type": "execute_result",
          "data": {
            "text/plain": [
              "array(['Western Europe', 'North America', 'Australia and New Zealand',\n",
              "       'Middle East and Northern Africa', 'Latin America and Caribbean',\n",
              "       'Southeastern Asia', 'Central and Eastern Europe', 'Eastern Asia',\n",
              "       'Sub-Saharan Africa', 'Southern Asia'], dtype=object)"
            ]
          },
          "metadata": {
            "tags": []
          },
          "execution_count": 5
        }
      ]
    },
    {
      "cell_type": "code",
      "metadata": {
        "colab": {
          "base_uri": "https://localhost:8080/",
          "height": 402
        },
        "id": "wczXiBdxwFS1",
        "outputId": "1d4616a5-9eb7-46d7-eaa1-9add6ed9a1ef"
      },
      "source": [
        "asia_region= happiness2015[happiness2015['Region']=='Southern Asia']\r\n",
        "asia_region"
      ],
      "execution_count": 6,
      "outputs": [
        {
          "output_type": "execute_result",
          "data": {
            "text/html": [
              "<div>\n",
              "<style scoped>\n",
              "    .dataframe tbody tr th:only-of-type {\n",
              "        vertical-align: middle;\n",
              "    }\n",
              "\n",
              "    .dataframe tbody tr th {\n",
              "        vertical-align: top;\n",
              "    }\n",
              "\n",
              "    .dataframe thead th {\n",
              "        text-align: right;\n",
              "    }\n",
              "</style>\n",
              "<table border=\"1\" class=\"dataframe\">\n",
              "  <thead>\n",
              "    <tr style=\"text-align: right;\">\n",
              "      <th></th>\n",
              "      <th>Country</th>\n",
              "      <th>Region</th>\n",
              "      <th>Happiness Rank</th>\n",
              "      <th>Happiness Score</th>\n",
              "      <th>Standard Error</th>\n",
              "      <th>Economy (GDP per Capita)</th>\n",
              "      <th>Family</th>\n",
              "      <th>Health (Life Expectancy)</th>\n",
              "      <th>Freedom</th>\n",
              "      <th>Trust (Government Corruption)</th>\n",
              "      <th>Generosity</th>\n",
              "      <th>Dystopia Residual</th>\n",
              "    </tr>\n",
              "  </thead>\n",
              "  <tbody>\n",
              "    <tr>\n",
              "      <th>78</th>\n",
              "      <td>Bhutan</td>\n",
              "      <td>Southern Asia</td>\n",
              "      <td>79</td>\n",
              "      <td>5.253</td>\n",
              "      <td>0.03225</td>\n",
              "      <td>0.77042</td>\n",
              "      <td>1.10395</td>\n",
              "      <td>0.57407</td>\n",
              "      <td>0.53206</td>\n",
              "      <td>0.15445</td>\n",
              "      <td>0.47998</td>\n",
              "      <td>1.63794</td>\n",
              "    </tr>\n",
              "    <tr>\n",
              "      <th>80</th>\n",
              "      <td>Pakistan</td>\n",
              "      <td>Southern Asia</td>\n",
              "      <td>81</td>\n",
              "      <td>5.194</td>\n",
              "      <td>0.03726</td>\n",
              "      <td>0.59543</td>\n",
              "      <td>0.41411</td>\n",
              "      <td>0.51466</td>\n",
              "      <td>0.12102</td>\n",
              "      <td>0.10464</td>\n",
              "      <td>0.33671</td>\n",
              "      <td>3.10709</td>\n",
              "    </tr>\n",
              "    <tr>\n",
              "      <th>108</th>\n",
              "      <td>Bangladesh</td>\n",
              "      <td>Southern Asia</td>\n",
              "      <td>109</td>\n",
              "      <td>4.694</td>\n",
              "      <td>0.03077</td>\n",
              "      <td>0.39753</td>\n",
              "      <td>0.43106</td>\n",
              "      <td>0.60164</td>\n",
              "      <td>0.40820</td>\n",
              "      <td>0.12569</td>\n",
              "      <td>0.21222</td>\n",
              "      <td>2.51767</td>\n",
              "    </tr>\n",
              "    <tr>\n",
              "      <th>116</th>\n",
              "      <td>India</td>\n",
              "      <td>Southern Asia</td>\n",
              "      <td>117</td>\n",
              "      <td>4.565</td>\n",
              "      <td>0.02043</td>\n",
              "      <td>0.64499</td>\n",
              "      <td>0.38174</td>\n",
              "      <td>0.51529</td>\n",
              "      <td>0.39786</td>\n",
              "      <td>0.08492</td>\n",
              "      <td>0.26475</td>\n",
              "      <td>2.27513</td>\n",
              "    </tr>\n",
              "    <tr>\n",
              "      <th>120</th>\n",
              "      <td>Nepal</td>\n",
              "      <td>Southern Asia</td>\n",
              "      <td>121</td>\n",
              "      <td>4.514</td>\n",
              "      <td>0.03607</td>\n",
              "      <td>0.35997</td>\n",
              "      <td>0.86449</td>\n",
              "      <td>0.56874</td>\n",
              "      <td>0.38282</td>\n",
              "      <td>0.05907</td>\n",
              "      <td>0.32296</td>\n",
              "      <td>1.95637</td>\n",
              "    </tr>\n",
              "    <tr>\n",
              "      <th>131</th>\n",
              "      <td>Sri Lanka</td>\n",
              "      <td>Southern Asia</td>\n",
              "      <td>132</td>\n",
              "      <td>4.271</td>\n",
              "      <td>0.03751</td>\n",
              "      <td>0.83524</td>\n",
              "      <td>1.01905</td>\n",
              "      <td>0.70806</td>\n",
              "      <td>0.53726</td>\n",
              "      <td>0.09179</td>\n",
              "      <td>0.40828</td>\n",
              "      <td>0.67108</td>\n",
              "    </tr>\n",
              "    <tr>\n",
              "      <th>152</th>\n",
              "      <td>Afghanistan</td>\n",
              "      <td>Southern Asia</td>\n",
              "      <td>153</td>\n",
              "      <td>3.575</td>\n",
              "      <td>0.03084</td>\n",
              "      <td>0.31982</td>\n",
              "      <td>0.30285</td>\n",
              "      <td>0.30335</td>\n",
              "      <td>0.23414</td>\n",
              "      <td>0.09719</td>\n",
              "      <td>0.36510</td>\n",
              "      <td>1.95210</td>\n",
              "    </tr>\n",
              "  </tbody>\n",
              "</table>\n",
              "</div>"
            ],
            "text/plain": [
              "         Country         Region  ...  Generosity  Dystopia Residual\n",
              "78        Bhutan  Southern Asia  ...     0.47998            1.63794\n",
              "80      Pakistan  Southern Asia  ...     0.33671            3.10709\n",
              "108   Bangladesh  Southern Asia  ...     0.21222            2.51767\n",
              "116        India  Southern Asia  ...     0.26475            2.27513\n",
              "120        Nepal  Southern Asia  ...     0.32296            1.95637\n",
              "131    Sri Lanka  Southern Asia  ...     0.40828            0.67108\n",
              "152  Afghanistan  Southern Asia  ...     0.36510            1.95210\n",
              "\n",
              "[7 rows x 12 columns]"
            ]
          },
          "metadata": {
            "tags": []
          },
          "execution_count": 6
        }
      ]
    },
    {
      "cell_type": "code",
      "metadata": {
        "colab": {
          "base_uri": "https://localhost:8080/",
          "height": 298
        },
        "id": "L_gR3Bv0xQdz",
        "outputId": "37eff3ef-45e9-4ba5-a2dd-e8f1b68b45f9"
      },
      "source": [
        "asia_region.plot(kind='barh', x= 'Country', y='Happiness Score',\r\n",
        "                                    title='SouthAsia Happiness Score', xlim=(0,10))\r\n"
      ],
      "execution_count": 7,
      "outputs": [
        {
          "output_type": "execute_result",
          "data": {
            "text/plain": [
              "<matplotlib.axes._subplots.AxesSubplot at 0x7fb1afb8c2e8>"
            ]
          },
          "metadata": {
            "tags": []
          },
          "execution_count": 7
        },
        {
          "output_type": "display_data",
          "data": {
            "image/png": "[encoded data removed]",
            "text/plain": [
              "<Figure size 432x288 with 1 Axes>"
            ]
          },
          "metadata": {
            "tags": [],
            "needs_background": "light"
          }
        }
      ]
    },
    {
      "cell_type": "markdown",
      "metadata": {
        "id": "WAq9P_OuzoY8"
      },
      "source": [
        "Mean happiness score of each region"
      ]
    },
    {
      "cell_type": "code",
      "metadata": {
        "id": "QtVMyB0Ax2Ob"
      },
      "source": [
        "mean_happiness={}\r\n",
        "unique_region= happiness2015['Region'].unique()\r\n",
        "for region in unique_region:\r\n",
        "    region_group= happiness2015[happiness2015['Region']==region]\r\n",
        "    region_mean= region_group['Happiness Score'].mean()\r\n",
        "    mean_happiness[region]=region_mean"
      ],
      "execution_count": 8,
      "outputs": []
    },
    {
      "cell_type": "code",
      "metadata": {
        "colab": {
          "base_uri": "https://localhost:8080/"
        },
        "id": "iDbw2pTe1U1m",
        "outputId": "67cc218c-32a4-4661-b1fc-7cc1022ab30f"
      },
      "source": [
        "mean_happiness"
      ],
      "execution_count": 9,
      "outputs": [
        {
          "output_type": "execute_result",
          "data": {
            "text/plain": [
              "{'Australia and New Zealand': 7.285,\n",
              " 'Central and Eastern Europe': 5.332931034482758,\n",
              " 'Eastern Asia': 5.626166666666666,\n",
              " 'Latin America and Caribbean': 6.144681818181818,\n",
              " 'Middle East and Northern Africa': 5.406899999999999,\n",
              " 'North America': 7.273,\n",
              " 'Southeastern Asia': 5.317444444444445,\n",
              " 'Southern Asia': 4.580857142857143,\n",
              " 'Sub-Saharan Africa': 4.202800000000001,\n",
              " 'Western Europe': 6.689619047619048}"
            ]
          },
          "metadata": {
            "tags": []
          },
          "execution_count": 9
        }
      ]
    },
    {
      "cell_type": "code",
      "metadata": {
        "id": "0J3YL4RF1c-s"
      },
      "source": [
        "\r\n"
      ],
      "execution_count": 9,
      "outputs": []
    },
    {
      "cell_type": "markdown",
      "metadata": {
        "id": "TuPw301a2mde"
      },
      "source": [
        "grouby()= split, apply, combined"
      ]
    },
    {
      "cell_type": "code",
      "metadata": {
        "colab": {
          "base_uri": "https://localhost:8080/",
          "height": 162
        },
        "id": "471P0Yid2tt1",
        "outputId": "144a79e3-60bb-4fd7-e1a2-2eeda0c4f3c0"
      },
      "source": [
        "grouped= happiness2015.groupby('Region')\r\n",
        "aus_nz=grouped.get_group('Australia and New Zealand')\r\n",
        "aus_nz"
      ],
      "execution_count": 10,
      "outputs": [
        {
          "output_type": "execute_result",
          "data": {
            "text/html": [
              "<div>\n",
              "<style scoped>\n",
              "    .dataframe tbody tr th:only-of-type {\n",
              "        vertical-align: middle;\n",
              "    }\n",
              "\n",
              "    .dataframe tbody tr th {\n",
              "        vertical-align: top;\n",
              "    }\n",
              "\n",
              "    .dataframe thead th {\n",
              "        text-align: right;\n",
              "    }\n",
              "</style>\n",
              "<table border=\"1\" class=\"dataframe\">\n",
              "  <thead>\n",
              "    <tr style=\"text-align: right;\">\n",
              "      <th></th>\n",
              "      <th>Country</th>\n",
              "      <th>Region</th>\n",
              "      <th>Happiness Rank</th>\n",
              "      <th>Happiness Score</th>\n",
              "      <th>Standard Error</th>\n",
              "      <th>Economy (GDP per Capita)</th>\n",
              "      <th>Family</th>\n",
              "      <th>Health (Life Expectancy)</th>\n",
              "      <th>Freedom</th>\n",
              "      <th>Trust (Government Corruption)</th>\n",
              "      <th>Generosity</th>\n",
              "      <th>Dystopia Residual</th>\n",
              "    </tr>\n",
              "  </thead>\n",
              "  <tbody>\n",
              "    <tr>\n",
              "      <th>8</th>\n",
              "      <td>New Zealand</td>\n",
              "      <td>Australia and New Zealand</td>\n",
              "      <td>9</td>\n",
              "      <td>7.286</td>\n",
              "      <td>0.03371</td>\n",
              "      <td>1.25018</td>\n",
              "      <td>1.31967</td>\n",
              "      <td>0.90837</td>\n",
              "      <td>0.63938</td>\n",
              "      <td>0.42922</td>\n",
              "      <td>0.47501</td>\n",
              "      <td>2.26425</td>\n",
              "    </tr>\n",
              "    <tr>\n",
              "      <th>9</th>\n",
              "      <td>Australia</td>\n",
              "      <td>Australia and New Zealand</td>\n",
              "      <td>10</td>\n",
              "      <td>7.284</td>\n",
              "      <td>0.04083</td>\n",
              "      <td>1.33358</td>\n",
              "      <td>1.30923</td>\n",
              "      <td>0.93156</td>\n",
              "      <td>0.65124</td>\n",
              "      <td>0.35637</td>\n",
              "      <td>0.43562</td>\n",
              "      <td>2.26646</td>\n",
              "    </tr>\n",
              "  </tbody>\n",
              "</table>\n",
              "</div>"
            ],
            "text/plain": [
              "       Country                     Region  ...  Generosity  Dystopia Residual\n",
              "8  New Zealand  Australia and New Zealand  ...     0.47501            2.26425\n",
              "9    Australia  Australia and New Zealand  ...     0.43562            2.26646\n",
              "\n",
              "[2 rows x 12 columns]"
            ]
          },
          "metadata": {
            "tags": []
          },
          "execution_count": 10
        }
      ]
    },
    {
      "cell_type": "code",
      "metadata": {
        "colab": {
          "base_uri": "https://localhost:8080/",
          "height": 402
        },
        "id": "7vig6TRq6NGt",
        "outputId": "918ac535-c27e-46a1-918a-8e4077fbbbfb"
      },
      "source": [
        "grouped.get_group('Southern Asia')"
      ],
      "execution_count": 11,
      "outputs": [
        {
          "output_type": "execute_result",
          "data": {
            "text/html": [
              "<div>\n",
              "<style scoped>\n",
              "    .dataframe tbody tr th:only-of-type {\n",
              "        vertical-align: middle;\n",
              "    }\n",
              "\n",
              "    .dataframe tbody tr th {\n",
              "        vertical-align: top;\n",
              "    }\n",
              "\n",
              "    .dataframe thead th {\n",
              "        text-align: right;\n",
              "    }\n",
              "</style>\n",
              "<table border=\"1\" class=\"dataframe\">\n",
              "  <thead>\n",
              "    <tr style=\"text-align: right;\">\n",
              "      <th></th>\n",
              "      <th>Country</th>\n",
              "      <th>Region</th>\n",
              "      <th>Happiness Rank</th>\n",
              "      <th>Happiness Score</th>\n",
              "      <th>Standard Error</th>\n",
              "      <th>Economy (GDP per Capita)</th>\n",
              "      <th>Family</th>\n",
              "      <th>Health (Life Expectancy)</th>\n",
              "      <th>Freedom</th>\n",
              "      <th>Trust (Government Corruption)</th>\n",
              "      <th>Generosity</th>\n",
              "      <th>Dystopia Residual</th>\n",
              "    </tr>\n",
              "  </thead>\n",
              "  <tbody>\n",
              "    <tr>\n",
              "      <th>78</th>\n",
              "      <td>Bhutan</td>\n",
              "      <td>Southern Asia</td>\n",
              "      <td>79</td>\n",
              "      <td>5.253</td>\n",
              "      <td>0.03225</td>\n",
              "      <td>0.77042</td>\n",
              "      <td>1.10395</td>\n",
              "      <td>0.57407</td>\n",
              "      <td>0.53206</td>\n",
              "      <td>0.15445</td>\n",
              "      <td>0.47998</td>\n",
              "      <td>1.63794</td>\n",
              "    </tr>\n",
              "    <tr>\n",
              "      <th>80</th>\n",
              "      <td>Pakistan</td>\n",
              "      <td>Southern Asia</td>\n",
              "      <td>81</td>\n",
              "      <td>5.194</td>\n",
              "      <td>0.03726</td>\n",
              "      <td>0.59543</td>\n",
              "      <td>0.41411</td>\n",
              "      <td>0.51466</td>\n",
              "      <td>0.12102</td>\n",
              "      <td>0.10464</td>\n",
              "      <td>0.33671</td>\n",
              "      <td>3.10709</td>\n",
              "    </tr>\n",
              "    <tr>\n",
              "      <th>108</th>\n",
              "      <td>Bangladesh</td>\n",
              "      <td>Southern Asia</td>\n",
              "      <td>109</td>\n",
              "      <td>4.694</td>\n",
              "      <td>0.03077</td>\n",
              "      <td>0.39753</td>\n",
              "      <td>0.43106</td>\n",
              "      <td>0.60164</td>\n",
              "      <td>0.40820</td>\n",
              "      <td>0.12569</td>\n",
              "      <td>0.21222</td>\n",
              "      <td>2.51767</td>\n",
              "    </tr>\n",
              "    <tr>\n",
              "      <th>116</th>\n",
              "      <td>India</td>\n",
              "      <td>Southern Asia</td>\n",
              "      <td>117</td>\n",
              "      <td>4.565</td>\n",
              "      <td>0.02043</td>\n",
              "      <td>0.64499</td>\n",
              "      <td>0.38174</td>\n",
              "      <td>0.51529</td>\n",
              "      <td>0.39786</td>\n",
              "      <td>0.08492</td>\n",
              "      <td>0.26475</td>\n",
              "      <td>2.27513</td>\n",
              "    </tr>\n",
              "    <tr>\n",
              "      <th>120</th>\n",
              "      <td>Nepal</td>\n",
              "      <td>Southern Asia</td>\n",
              "      <td>121</td>\n",
              "      <td>4.514</td>\n",
              "      <td>0.03607</td>\n",
              "      <td>0.35997</td>\n",
              "      <td>0.86449</td>\n",
              "      <td>0.56874</td>\n",
              "      <td>0.38282</td>\n",
              "      <td>0.05907</td>\n",
              "      <td>0.32296</td>\n",
              "      <td>1.95637</td>\n",
              "    </tr>\n",
              "    <tr>\n",
              "      <th>131</th>\n",
              "      <td>Sri Lanka</td>\n",
              "      <td>Southern Asia</td>\n",
              "      <td>132</td>\n",
              "      <td>4.271</td>\n",
              "      <td>0.03751</td>\n",
              "      <td>0.83524</td>\n",
              "      <td>1.01905</td>\n",
              "      <td>0.70806</td>\n",
              "      <td>0.53726</td>\n",
              "      <td>0.09179</td>\n",
              "      <td>0.40828</td>\n",
              "      <td>0.67108</td>\n",
              "    </tr>\n",
              "    <tr>\n",
              "      <th>152</th>\n",
              "      <td>Afghanistan</td>\n",
              "      <td>Southern Asia</td>\n",
              "      <td>153</td>\n",
              "      <td>3.575</td>\n",
              "      <td>0.03084</td>\n",
              "      <td>0.31982</td>\n",
              "      <td>0.30285</td>\n",
              "      <td>0.30335</td>\n",
              "      <td>0.23414</td>\n",
              "      <td>0.09719</td>\n",
              "      <td>0.36510</td>\n",
              "      <td>1.95210</td>\n",
              "    </tr>\n",
              "  </tbody>\n",
              "</table>\n",
              "</div>"
            ],
            "text/plain": [
              "         Country         Region  ...  Generosity  Dystopia Residual\n",
              "78        Bhutan  Southern Asia  ...     0.47998            1.63794\n",
              "80      Pakistan  Southern Asia  ...     0.33671            3.10709\n",
              "108   Bangladesh  Southern Asia  ...     0.21222            2.51767\n",
              "116        India  Southern Asia  ...     0.26475            2.27513\n",
              "120        Nepal  Southern Asia  ...     0.32296            1.95637\n",
              "131    Sri Lanka  Southern Asia  ...     0.40828            0.67108\n",
              "152  Afghanistan  Southern Asia  ...     0.36510            1.95210\n",
              "\n",
              "[7 rows x 12 columns]"
            ]
          },
          "metadata": {
            "tags": []
          },
          "execution_count": 11
        }
      ]
    },
    {
      "cell_type": "code",
      "metadata": {
        "colab": {
          "base_uri": "https://localhost:8080/"
        },
        "id": "-OMvpgdx6V9u",
        "outputId": "e2732090-5c93-44b4-f6b0-04c423a90975"
      },
      "source": [
        "dict(grouped.groups)"
      ],
      "execution_count": 12,
      "outputs": [
        {
          "output_type": "execute_result",
          "data": {
            "text/plain": [
              "{'Australia and New Zealand': Int64Index([8, 9], dtype='int64'),\n",
              " 'Central and Eastern Europe': Int64Index([ 30,  43,  44,  51,  53,  54,  55,  58,  59,  61,  63,  68,  69,\n",
              "              72,  76,  79,  82,  85,  86,  88,  92,  94,  95, 103, 105, 110,\n",
              "             126, 129, 133],\n",
              "            dtype='int64'),\n",
              " 'Eastern Asia': Int64Index([37, 45, 46, 71, 83, 99], dtype='int64'),\n",
              " 'Latin America and Caribbean': Int64Index([ 11,  13,  15,  22,  24,  26,  29,  31,  32,  39,  40,  41,  42,\n",
              "              47,  50,  52,  56,  57,  64,  97, 104, 118],\n",
              "            dtype='int64'),\n",
              " 'Middle East and Northern Africa': Int64Index([ 10,  19,  21,  27,  34,  38,  48,  62,  67,  75,  81,  91, 102,\n",
              "             106, 107, 109, 111, 134, 135, 155],\n",
              "            dtype='int64'),\n",
              " 'North America': Int64Index([4, 14], dtype='int64'),\n",
              " 'Southeastern Asia': Int64Index([23, 33, 60, 73, 74, 89, 98, 128, 144], dtype='int64'),\n",
              " 'Southern Asia': Int64Index([78, 80, 108, 116, 120, 131, 152], dtype='int64'),\n",
              " 'Sub-Saharan Africa': Int64Index([ 70,  77,  84,  90,  93,  96, 100, 112, 113, 114, 115, 117, 119,\n",
              "             121, 122, 123, 124, 125, 127, 130, 132, 136, 137, 138, 139, 140,\n",
              "             141, 142, 143, 145, 146, 147, 148, 149, 150, 151, 153, 154, 156,\n",
              "             157],\n",
              "            dtype='int64'),\n",
              " 'Western Europe': Int64Index([0, 1, 2, 3, 5, 6, 7, 12, 16, 17, 18, 20, 25, 28, 35, 36, 49, 65,\n",
              "             66, 87, 101],\n",
              "            dtype='int64')}"
            ]
          },
          "metadata": {
            "tags": []
          },
          "execution_count": 12
        }
      ]
    },
    {
      "cell_type": "code",
      "metadata": {
        "colab": {
          "base_uri": "https://localhost:8080/"
        },
        "id": "Js_JM-GT6u83",
        "outputId": "86a7f5ab-a88f-40d9-ddd9-7b54441f0e1a"
      },
      "source": [
        "grouped.size()"
      ],
      "execution_count": 13,
      "outputs": [
        {
          "output_type": "execute_result",
          "data": {
            "text/plain": [
              "Region\n",
              "Australia and New Zealand           2\n",
              "Central and Eastern Europe         29\n",
              "Eastern Asia                        6\n",
              "Latin America and Caribbean        22\n",
              "Middle East and Northern Africa    20\n",
              "North America                       2\n",
              "Southeastern Asia                   9\n",
              "Southern Asia                       7\n",
              "Sub-Saharan Africa                 40\n",
              "Western Europe                     21\n",
              "dtype: int64"
            ]
          },
          "metadata": {
            "tags": []
          },
          "execution_count": 13
        }
      ]
    },
    {
      "cell_type": "code",
      "metadata": {
        "id": "UMmAWQ628deF",
        "colab": {
          "base_uri": "https://localhost:8080/",
          "height": 320
        },
        "outputId": "7598dd21-a315-469b-e411-e97315b7802a"
      },
      "source": [
        "means= grouped.mean()\r\n",
        "means.head()"
      ],
      "execution_count": 14,
      "outputs": [
        {
          "output_type": "execute_result",
          "data": {
            "text/html": [
              "<div>\n",
              "<style scoped>\n",
              "    .dataframe tbody tr th:only-of-type {\n",
              "        vertical-align: middle;\n",
              "    }\n",
              "\n",
              "    .dataframe tbody tr th {\n",
              "        vertical-align: top;\n",
              "    }\n",
              "\n",
              "    .dataframe thead th {\n",
              "        text-align: right;\n",
              "    }\n",
              "</style>\n",
              "<table border=\"1\" class=\"dataframe\">\n",
              "  <thead>\n",
              "    <tr style=\"text-align: right;\">\n",
              "      <th></th>\n",
              "      <th>Happiness Rank</th>\n",
              "      <th>Happiness Score</th>\n",
              "      <th>Standard Error</th>\n",
              "      <th>Economy (GDP per Capita)</th>\n",
              "      <th>Family</th>\n",
              "      <th>Health (Life Expectancy)</th>\n",
              "      <th>Freedom</th>\n",
              "      <th>Trust (Government Corruption)</th>\n",
              "      <th>Generosity</th>\n",
              "      <th>Dystopia Residual</th>\n",
              "    </tr>\n",
              "    <tr>\n",
              "      <th>Region</th>\n",
              "      <th></th>\n",
              "      <th></th>\n",
              "      <th></th>\n",
              "      <th></th>\n",
              "      <th></th>\n",
              "      <th></th>\n",
              "      <th></th>\n",
              "      <th></th>\n",
              "      <th></th>\n",
              "      <th></th>\n",
              "    </tr>\n",
              "  </thead>\n",
              "  <tbody>\n",
              "    <tr>\n",
              "      <th>Australia and New Zealand</th>\n",
              "      <td>9.500000</td>\n",
              "      <td>7.285000</td>\n",
              "      <td>0.037270</td>\n",
              "      <td>1.291880</td>\n",
              "      <td>1.314450</td>\n",
              "      <td>0.919965</td>\n",
              "      <td>0.645310</td>\n",
              "      <td>0.392795</td>\n",
              "      <td>0.455315</td>\n",
              "      <td>2.265355</td>\n",
              "    </tr>\n",
              "    <tr>\n",
              "      <th>Central and Eastern Europe</th>\n",
              "      <td>79.000000</td>\n",
              "      <td>5.332931</td>\n",
              "      <td>0.045208</td>\n",
              "      <td>0.942438</td>\n",
              "      <td>1.053042</td>\n",
              "      <td>0.718774</td>\n",
              "      <td>0.358269</td>\n",
              "      <td>0.086674</td>\n",
              "      <td>0.152264</td>\n",
              "      <td>2.021400</td>\n",
              "    </tr>\n",
              "    <tr>\n",
              "      <th>Eastern Asia</th>\n",
              "      <td>64.500000</td>\n",
              "      <td>5.626167</td>\n",
              "      <td>0.037225</td>\n",
              "      <td>1.151780</td>\n",
              "      <td>1.099427</td>\n",
              "      <td>0.877388</td>\n",
              "      <td>0.462490</td>\n",
              "      <td>0.127695</td>\n",
              "      <td>0.225885</td>\n",
              "      <td>1.681607</td>\n",
              "    </tr>\n",
              "    <tr>\n",
              "      <th>Latin America and Caribbean</th>\n",
              "      <td>46.909091</td>\n",
              "      <td>6.144682</td>\n",
              "      <td>0.061127</td>\n",
              "      <td>0.876815</td>\n",
              "      <td>1.104720</td>\n",
              "      <td>0.703870</td>\n",
              "      <td>0.501740</td>\n",
              "      <td>0.117172</td>\n",
              "      <td>0.217788</td>\n",
              "      <td>2.622577</td>\n",
              "    </tr>\n",
              "    <tr>\n",
              "      <th>Middle East and Northern Africa</th>\n",
              "      <td>77.600000</td>\n",
              "      <td>5.406900</td>\n",
              "      <td>0.046337</td>\n",
              "      <td>1.066973</td>\n",
              "      <td>0.920490</td>\n",
              "      <td>0.705616</td>\n",
              "      <td>0.361751</td>\n",
              "      <td>0.181702</td>\n",
              "      <td>0.190375</td>\n",
              "      <td>1.980009</td>\n",
              "    </tr>\n",
              "  </tbody>\n",
              "</table>\n",
              "</div>"
            ],
            "text/plain": [
              "                                 Happiness Rank  ...  Dystopia Residual\n",
              "Region                                           ...                   \n",
              "Australia and New Zealand              9.500000  ...           2.265355\n",
              "Central and Eastern Europe            79.000000  ...           2.021400\n",
              "Eastern Asia                          64.500000  ...           1.681607\n",
              "Latin America and Caribbean           46.909091  ...           2.622577\n",
              "Middle East and Northern Africa       77.600000  ...           1.980009\n",
              "\n",
              "[5 rows x 10 columns]"
            ]
          },
          "metadata": {
            "tags": []
          },
          "execution_count": 14
        }
      ]
    },
    {
      "cell_type": "code",
      "metadata": {
        "colab": {
          "base_uri": "https://localhost:8080/"
        },
        "id": "XkG57COAD_e2",
        "outputId": "9987b2da-bf27-4464-9a7b-d8247e9d4814"
      },
      "source": [
        "grouped = happiness2015.groupby('Region')\r\n",
        "happy_grouped= grouped['Happiness Score']\r\n",
        "happy_mean= happy_grouped.mean()\r\n",
        "happy_mean"
      ],
      "execution_count": 15,
      "outputs": [
        {
          "output_type": "execute_result",
          "data": {
            "text/plain": [
              "Region\n",
              "Australia and New Zealand          7.285000\n",
              "Central and Eastern Europe         5.332931\n",
              "Eastern Asia                       5.626167\n",
              "Latin America and Caribbean        6.144682\n",
              "Middle East and Northern Africa    5.406900\n",
              "North America                      7.273000\n",
              "Southeastern Asia                  5.317444\n",
              "Southern Asia                      4.580857\n",
              "Sub-Saharan Africa                 4.202800\n",
              "Western Europe                     6.689619\n",
              "Name: Happiness Score, dtype: float64"
            ]
          },
          "metadata": {
            "tags": []
          },
          "execution_count": 15
        }
      ]
    },
    {
      "cell_type": "code",
      "metadata": {
        "id": "M3QxWbiZGojT"
      },
      "source": [
        "import numpy as np\r\n",
        "grouped = happiness2015.groupby('Region')\r\n",
        "happy_grouped = grouped['Happiness Score']\r\n",
        "def dif(group):\r\n",
        "    return (group.max() - group.mean())\r\n",
        "\r\n",
        "happy_mean_max= happy_grouped.agg([np.mean, np.max])\r\n",
        "mean_max_dif= happy_grouped.agg(dif)"
      ],
      "execution_count": 16,
      "outputs": []
    },
    {
      "cell_type": "code",
      "metadata": {
        "colab": {
          "base_uri": "https://localhost:8080/",
          "height": 390
        },
        "id": "F1bnjNzadq0h",
        "outputId": "8fc94587-b980-43b9-b6b3-b179ef126c1e"
      },
      "source": [
        "happy_mean_max"
      ],
      "execution_count": 17,
      "outputs": [
        {
          "output_type": "execute_result",
          "data": {
            "text/html": [
              "<div>\n",
              "<style scoped>\n",
              "    .dataframe tbody tr th:only-of-type {\n",
              "        vertical-align: middle;\n",
              "    }\n",
              "\n",
              "    .dataframe tbody tr th {\n",
              "        vertical-align: top;\n",
              "    }\n",
              "\n",
              "    .dataframe thead th {\n",
              "        text-align: right;\n",
              "    }\n",
              "</style>\n",
              "<table border=\"1\" class=\"dataframe\">\n",
              "  <thead>\n",
              "    <tr style=\"text-align: right;\">\n",
              "      <th></th>\n",
              "      <th>mean</th>\n",
              "      <th>amax</th>\n",
              "    </tr>\n",
              "    <tr>\n",
              "      <th>Region</th>\n",
              "      <th></th>\n",
              "      <th></th>\n",
              "    </tr>\n",
              "  </thead>\n",
              "  <tbody>\n",
              "    <tr>\n",
              "      <th>Australia and New Zealand</th>\n",
              "      <td>7.285000</td>\n",
              "      <td>7.286</td>\n",
              "    </tr>\n",
              "    <tr>\n",
              "      <th>Central and Eastern Europe</th>\n",
              "      <td>5.332931</td>\n",
              "      <td>6.505</td>\n",
              "    </tr>\n",
              "    <tr>\n",
              "      <th>Eastern Asia</th>\n",
              "      <td>5.626167</td>\n",
              "      <td>6.298</td>\n",
              "    </tr>\n",
              "    <tr>\n",
              "      <th>Latin America and Caribbean</th>\n",
              "      <td>6.144682</td>\n",
              "      <td>7.226</td>\n",
              "    </tr>\n",
              "    <tr>\n",
              "      <th>Middle East and Northern Africa</th>\n",
              "      <td>5.406900</td>\n",
              "      <td>7.278</td>\n",
              "    </tr>\n",
              "    <tr>\n",
              "      <th>North America</th>\n",
              "      <td>7.273000</td>\n",
              "      <td>7.427</td>\n",
              "    </tr>\n",
              "    <tr>\n",
              "      <th>Southeastern Asia</th>\n",
              "      <td>5.317444</td>\n",
              "      <td>6.798</td>\n",
              "    </tr>\n",
              "    <tr>\n",
              "      <th>Southern Asia</th>\n",
              "      <td>4.580857</td>\n",
              "      <td>5.253</td>\n",
              "    </tr>\n",
              "    <tr>\n",
              "      <th>Sub-Saharan Africa</th>\n",
              "      <td>4.202800</td>\n",
              "      <td>5.477</td>\n",
              "    </tr>\n",
              "    <tr>\n",
              "      <th>Western Europe</th>\n",
              "      <td>6.689619</td>\n",
              "      <td>7.587</td>\n",
              "    </tr>\n",
              "  </tbody>\n",
              "</table>\n",
              "</div>"
            ],
            "text/plain": [
              "                                     mean   amax\n",
              "Region                                          \n",
              "Australia and New Zealand        7.285000  7.286\n",
              "Central and Eastern Europe       5.332931  6.505\n",
              "Eastern Asia                     5.626167  6.298\n",
              "Latin America and Caribbean      6.144682  7.226\n",
              "Middle East and Northern Africa  5.406900  7.278\n",
              "North America                    7.273000  7.427\n",
              "Southeastern Asia                5.317444  6.798\n",
              "Southern Asia                    4.580857  5.253\n",
              "Sub-Saharan Africa               4.202800  5.477\n",
              "Western Europe                   6.689619  7.587"
            ]
          },
          "metadata": {
            "tags": []
          },
          "execution_count": 17
        }
      ]
    },
    {
      "cell_type": "code",
      "metadata": {
        "colab": {
          "base_uri": "https://localhost:8080/"
        },
        "id": "O5C1wkS2elCF",
        "outputId": "2dbb1ee4-8acc-46a9-dae9-72386ac75330"
      },
      "source": [
        "mean_max_dif"
      ],
      "execution_count": 18,
      "outputs": [
        {
          "output_type": "execute_result",
          "data": {
            "text/plain": [
              "Region\n",
              "Australia and New Zealand          0.001000\n",
              "Central and Eastern Europe         1.172069\n",
              "Eastern Asia                       0.671833\n",
              "Latin America and Caribbean        1.081318\n",
              "Middle East and Northern Africa    1.871100\n",
              "North America                      0.154000\n",
              "Southeastern Asia                  1.480556\n",
              "Southern Asia                      0.672143\n",
              "Sub-Saharan Africa                 1.274200\n",
              "Western Europe                     0.897381\n",
              "Name: Happiness Score, dtype: float64"
            ]
          },
          "metadata": {
            "tags": []
          },
          "execution_count": 18
        }
      ]
    },
    {
      "cell_type": "code",
      "metadata": {
        "colab": {
          "base_uri": "https://localhost:8080/"
        },
        "id": "bS5yjnzBemX8",
        "outputId": "9d9ecdcd-a9c5-4757-b40e-67fc92174b67"
      },
      "source": [
        "happiness_means = happiness2015.groupby('Region')['Happiness Score'].mean()\r\n",
        "happiness_means"
      ],
      "execution_count": 19,
      "outputs": [
        {
          "output_type": "execute_result",
          "data": {
            "text/plain": [
              "Region\n",
              "Australia and New Zealand          7.285000\n",
              "Central and Eastern Europe         5.332931\n",
              "Eastern Asia                       5.626167\n",
              "Latin America and Caribbean        6.144682\n",
              "Middle East and Northern Africa    5.406900\n",
              "North America                      7.273000\n",
              "Southeastern Asia                  5.317444\n",
              "Southern Asia                      4.580857\n",
              "Sub-Saharan Africa                 4.202800\n",
              "Western Europe                     6.689619\n",
              "Name: Happiness Score, dtype: float64"
            ]
          },
          "metadata": {
            "tags": []
          },
          "execution_count": 19
        }
      ]
    },
    {
      "cell_type": "code",
      "metadata": {
        "colab": {
          "base_uri": "https://localhost:8080/",
          "height": 390
        },
        "id": "fxc2qRimfrl_",
        "outputId": "6b0342f4-76e1-46f0-c085-99139db7e922"
      },
      "source": [
        "pv_happiness = happiness2015.pivot_table(values='Happiness Score', index='Region', aggfunc=np.mean)\r\n",
        "pv_happiness"
      ],
      "execution_count": 25,
      "outputs": [
        {
          "output_type": "execute_result",
          "data": {
            "text/html": [
              "<div>\n",
              "<style scoped>\n",
              "    .dataframe tbody tr th:only-of-type {\n",
              "        vertical-align: middle;\n",
              "    }\n",
              "\n",
              "    .dataframe tbody tr th {\n",
              "        vertical-align: top;\n",
              "    }\n",
              "\n",
              "    .dataframe thead th {\n",
              "        text-align: right;\n",
              "    }\n",
              "</style>\n",
              "<table border=\"1\" class=\"dataframe\">\n",
              "  <thead>\n",
              "    <tr style=\"text-align: right;\">\n",
              "      <th></th>\n",
              "      <th>Happiness Score</th>\n",
              "    </tr>\n",
              "    <tr>\n",
              "      <th>Region</th>\n",
              "      <th></th>\n",
              "    </tr>\n",
              "  </thead>\n",
              "  <tbody>\n",
              "    <tr>\n",
              "      <th>Australia and New Zealand</th>\n",
              "      <td>7.285000</td>\n",
              "    </tr>\n",
              "    <tr>\n",
              "      <th>Central and Eastern Europe</th>\n",
              "      <td>5.332931</td>\n",
              "    </tr>\n",
              "    <tr>\n",
              "      <th>Eastern Asia</th>\n",
              "      <td>5.626167</td>\n",
              "    </tr>\n",
              "    <tr>\n",
              "      <th>Latin America and Caribbean</th>\n",
              "      <td>6.144682</td>\n",
              "    </tr>\n",
              "    <tr>\n",
              "      <th>Middle East and Northern Africa</th>\n",
              "      <td>5.406900</td>\n",
              "    </tr>\n",
              "    <tr>\n",
              "      <th>North America</th>\n",
              "      <td>7.273000</td>\n",
              "    </tr>\n",
              "    <tr>\n",
              "      <th>Southeastern Asia</th>\n",
              "      <td>5.317444</td>\n",
              "    </tr>\n",
              "    <tr>\n",
              "      <th>Southern Asia</th>\n",
              "      <td>4.580857</td>\n",
              "    </tr>\n",
              "    <tr>\n",
              "      <th>Sub-Saharan Africa</th>\n",
              "      <td>4.202800</td>\n",
              "    </tr>\n",
              "    <tr>\n",
              "      <th>Western Europe</th>\n",
              "      <td>6.689619</td>\n",
              "    </tr>\n",
              "  </tbody>\n",
              "</table>\n",
              "</div>"
            ],
            "text/plain": [
              "                                 Happiness Score\n",
              "Region                                          \n",
              "Australia and New Zealand               7.285000\n",
              "Central and Eastern Europe              5.332931\n",
              "Eastern Asia                            5.626167\n",
              "Latin America and Caribbean             6.144682\n",
              "Middle East and Northern Africa         5.406900\n",
              "North America                           7.273000\n",
              "Southeastern Asia                       5.317444\n",
              "Southern Asia                           4.580857\n",
              "Sub-Saharan Africa                      4.202800\n",
              "Western Europe                          6.689619"
            ]
          },
          "metadata": {
            "tags": []
          },
          "execution_count": 25
        }
      ]
    },
    {
      "cell_type": "markdown",
      "metadata": {
        "id": "GS6jgBpQo4Oo"
      },
      "source": [
        "margins parameter helps to find overall mean in this case"
      ]
    },
    {
      "cell_type": "code",
      "metadata": {
        "colab": {
          "base_uri": "https://localhost:8080/",
          "height": 421
        },
        "id": "no27-jcwofrJ",
        "outputId": "89c616f3-7c93-41d2-adc1-1cfc1758abaf"
      },
      "source": [
        "pv_happiness = happiness2015.pivot_table(values='Happiness Score', index='Region', aggfunc=np.mean, margins=True)\r\n",
        "pv_happiness"
      ],
      "execution_count": 27,
      "outputs": [
        {
          "output_type": "execute_result",
          "data": {
            "text/html": [
              "<div>\n",
              "<style scoped>\n",
              "    .dataframe tbody tr th:only-of-type {\n",
              "        vertical-align: middle;\n",
              "    }\n",
              "\n",
              "    .dataframe tbody tr th {\n",
              "        vertical-align: top;\n",
              "    }\n",
              "\n",
              "    .dataframe thead th {\n",
              "        text-align: right;\n",
              "    }\n",
              "</style>\n",
              "<table border=\"1\" class=\"dataframe\">\n",
              "  <thead>\n",
              "    <tr style=\"text-align: right;\">\n",
              "      <th></th>\n",
              "      <th>Happiness Score</th>\n",
              "    </tr>\n",
              "    <tr>\n",
              "      <th>Region</th>\n",
              "      <th></th>\n",
              "    </tr>\n",
              "  </thead>\n",
              "  <tbody>\n",
              "    <tr>\n",
              "      <th>Australia and New Zealand</th>\n",
              "      <td>7.285000</td>\n",
              "    </tr>\n",
              "    <tr>\n",
              "      <th>Central and Eastern Europe</th>\n",
              "      <td>5.332931</td>\n",
              "    </tr>\n",
              "    <tr>\n",
              "      <th>Eastern Asia</th>\n",
              "      <td>5.626167</td>\n",
              "    </tr>\n",
              "    <tr>\n",
              "      <th>Latin America and Caribbean</th>\n",
              "      <td>6.144682</td>\n",
              "    </tr>\n",
              "    <tr>\n",
              "      <th>Middle East and Northern Africa</th>\n",
              "      <td>5.406900</td>\n",
              "    </tr>\n",
              "    <tr>\n",
              "      <th>North America</th>\n",
              "      <td>7.273000</td>\n",
              "    </tr>\n",
              "    <tr>\n",
              "      <th>Southeastern Asia</th>\n",
              "      <td>5.317444</td>\n",
              "    </tr>\n",
              "    <tr>\n",
              "      <th>Southern Asia</th>\n",
              "      <td>4.580857</td>\n",
              "    </tr>\n",
              "    <tr>\n",
              "      <th>Sub-Saharan Africa</th>\n",
              "      <td>4.202800</td>\n",
              "    </tr>\n",
              "    <tr>\n",
              "      <th>Western Europe</th>\n",
              "      <td>6.689619</td>\n",
              "    </tr>\n",
              "    <tr>\n",
              "      <th>All</th>\n",
              "      <td>5.375734</td>\n",
              "    </tr>\n",
              "  </tbody>\n",
              "</table>\n",
              "</div>"
            ],
            "text/plain": [
              "                                 Happiness Score\n",
              "Region                                          \n",
              "Australia and New Zealand               7.285000\n",
              "Central and Eastern Europe              5.332931\n",
              "Eastern Asia                            5.626167\n",
              "Latin America and Caribbean             6.144682\n",
              "Middle East and Northern Africa         5.406900\n",
              "North America                           7.273000\n",
              "Southeastern Asia                       5.317444\n",
              "Southern Asia                           4.580857\n",
              "Sub-Saharan Africa                      4.202800\n",
              "Western Europe                          6.689619\n",
              "All                                     5.375734"
            ]
          },
          "metadata": {
            "tags": []
          },
          "execution_count": 27
        }
      ]
    },
    {
      "cell_type": "code",
      "metadata": {
        "colab": {
          "base_uri": "https://localhost:8080/",
          "height": 298
        },
        "id": "Zn0Nibqso0p8",
        "outputId": "64f50c5a-4b52-4c44-d32a-e40da7faa401"
      },
      "source": [
        "pv_happiness = happiness2015.pivot_table('Happiness Score', 'Region') # aggfun is not provided beacause mean is difficult\r\n",
        "pv_happiness.plot(kind='barh', title='Mean Happiness Scores by Region', xlim=(0,10), legend=False)"
      ],
      "execution_count": 29,
      "outputs": [
        {
          "output_type": "execute_result",
          "data": {
            "text/plain": [
              "<matplotlib.axes._subplots.AxesSubplot at 0x7fb1ae2bfe10>"
            ]
          },
          "metadata": {
            "tags": []
          },
          "execution_count": 29
        },
        {
          "output_type": "display_data",
          "data": {
            "image/png": "[encoded data removed]",
            "text/plain": [
              "<Figure size 432x288 with 1 Axes>"
            ]
          },
          "metadata": {
            "tags": [],
            "needs_background": "light"
          }
        }
      ]
    },
    {
      "cell_type": "code",
      "metadata": {
        "colab": {
          "base_uri": "https://localhost:8080/",
          "height": 298
        },
        "id": "6nJikoX6qK8O",
        "outputId": "6cb03a13-5551-47b8-b4f7-760fcce38342"
      },
      "source": [
        "pv_happiness = happiness2015.pivot_table(values='Happiness Score', index='Region', aggfunc=np.mean, margins=True)\r\n",
        "pv_happiness.plot(kind='barh', xlim=(0,10), title='Mean Happiness Scores by Region', legend=False)\r\n"
      ],
      "execution_count": 30,
      "outputs": [
        {
          "output_type": "execute_result",
          "data": {
            "text/plain": [
              "<matplotlib.axes._subplots.AxesSubplot at 0x7fb1ae2a7e80>"
            ]
          },
          "metadata": {
            "tags": []
          },
          "execution_count": 30
        },
        {
          "output_type": "display_data",
          "data": {
            "image/png": "[encoded data removed]",
            "text/plain": [
              "<Figure size 432x288 with 1 Axes>"
            ]
          },
          "metadata": {
            "tags": [],
            "needs_background": "light"
          }
        }
      ]
    },
    {
      "cell_type": "code",
      "metadata": {
        "colab": {
          "base_uri": "https://localhost:8080/",
          "height": 390
        },
        "id": "ndflo-v9tSWU",
        "outputId": "93ebecfe-db2f-4a98-b208-1a401c3b8b1b"
      },
      "source": [
        "happiness2015.pivot_table(['Happiness Score', 'Family'], 'Region')"
      ],
      "execution_count": 31,
      "outputs": [
        {
          "output_type": "execute_result",
          "data": {
            "text/html": [
              "<div>\n",
              "<style scoped>\n",
              "    .dataframe tbody tr th:only-of-type {\n",
              "        vertical-align: middle;\n",
              "    }\n",
              "\n",
              "    .dataframe tbody tr th {\n",
              "        vertical-align: top;\n",
              "    }\n",
              "\n",
              "    .dataframe thead th {\n",
              "        text-align: right;\n",
              "    }\n",
              "</style>\n",
              "<table border=\"1\" class=\"dataframe\">\n",
              "  <thead>\n",
              "    <tr style=\"text-align: right;\">\n",
              "      <th></th>\n",
              "      <th>Family</th>\n",
              "      <th>Happiness Score</th>\n",
              "    </tr>\n",
              "    <tr>\n",
              "      <th>Region</th>\n",
              "      <th></th>\n",
              "      <th></th>\n",
              "    </tr>\n",
              "  </thead>\n",
              "  <tbody>\n",
              "    <tr>\n",
              "      <th>Australia and New Zealand</th>\n",
              "      <td>1.314450</td>\n",
              "      <td>7.285000</td>\n",
              "    </tr>\n",
              "    <tr>\n",
              "      <th>Central and Eastern Europe</th>\n",
              "      <td>1.053042</td>\n",
              "      <td>5.332931</td>\n",
              "    </tr>\n",
              "    <tr>\n",
              "      <th>Eastern Asia</th>\n",
              "      <td>1.099427</td>\n",
              "      <td>5.626167</td>\n",
              "    </tr>\n",
              "    <tr>\n",
              "      <th>Latin America and Caribbean</th>\n",
              "      <td>1.104720</td>\n",
              "      <td>6.144682</td>\n",
              "    </tr>\n",
              "    <tr>\n",
              "      <th>Middle East and Northern Africa</th>\n",
              "      <td>0.920490</td>\n",
              "      <td>5.406900</td>\n",
              "    </tr>\n",
              "    <tr>\n",
              "      <th>North America</th>\n",
              "      <td>1.284860</td>\n",
              "      <td>7.273000</td>\n",
              "    </tr>\n",
              "    <tr>\n",
              "      <th>Southeastern Asia</th>\n",
              "      <td>0.940468</td>\n",
              "      <td>5.317444</td>\n",
              "    </tr>\n",
              "    <tr>\n",
              "      <th>Southern Asia</th>\n",
              "      <td>0.645321</td>\n",
              "      <td>4.580857</td>\n",
              "    </tr>\n",
              "    <tr>\n",
              "      <th>Sub-Saharan Africa</th>\n",
              "      <td>0.809085</td>\n",
              "      <td>4.202800</td>\n",
              "    </tr>\n",
              "    <tr>\n",
              "      <th>Western Europe</th>\n",
              "      <td>1.247302</td>\n",
              "      <td>6.689619</td>\n",
              "    </tr>\n",
              "  </tbody>\n",
              "</table>\n",
              "</div>"
            ],
            "text/plain": [
              "                                   Family  Happiness Score\n",
              "Region                                                    \n",
              "Australia and New Zealand        1.314450         7.285000\n",
              "Central and Eastern Europe       1.053042         5.332931\n",
              "Eastern Asia                     1.099427         5.626167\n",
              "Latin America and Caribbean      1.104720         6.144682\n",
              "Middle East and Northern Africa  0.920490         5.406900\n",
              "North America                    1.284860         7.273000\n",
              "Southeastern Asia                0.940468         5.317444\n",
              "Southern Asia                    0.645321         4.580857\n",
              "Sub-Saharan Africa               0.809085         4.202800\n",
              "Western Europe                   1.247302         6.689619"
            ]
          },
          "metadata": {
            "tags": []
          },
          "execution_count": 31
        }
      ]
    },
    {
      "cell_type": "code",
      "metadata": {
        "colab": {
          "base_uri": "https://localhost:8080/",
          "height": 452
        },
        "id": "wL4zk5QBtfR8",
        "outputId": "e9469c81-31e2-4ad3-e7f7-b062d5f3182e"
      },
      "source": [
        "happiness2015.pivot_table('Happiness Score', 'Region', aggfunc=[np.mean, np.min , np.max], margins=True)"
      ],
      "execution_count": 32,
      "outputs": [
        {
          "output_type": "execute_result",
          "data": {
            "text/html": [
              "<div>\n",
              "<style scoped>\n",
              "    .dataframe tbody tr th:only-of-type {\n",
              "        vertical-align: middle;\n",
              "    }\n",
              "\n",
              "    .dataframe tbody tr th {\n",
              "        vertical-align: top;\n",
              "    }\n",
              "\n",
              "    .dataframe thead tr th {\n",
              "        text-align: left;\n",
              "    }\n",
              "\n",
              "    .dataframe thead tr:last-of-type th {\n",
              "        text-align: right;\n",
              "    }\n",
              "</style>\n",
              "<table border=\"1\" class=\"dataframe\">\n",
              "  <thead>\n",
              "    <tr>\n",
              "      <th></th>\n",
              "      <th>mean</th>\n",
              "      <th>amin</th>\n",
              "      <th>amax</th>\n",
              "    </tr>\n",
              "    <tr>\n",
              "      <th></th>\n",
              "      <th>Happiness Score</th>\n",
              "      <th>Happiness Score</th>\n",
              "      <th>Happiness Score</th>\n",
              "    </tr>\n",
              "    <tr>\n",
              "      <th>Region</th>\n",
              "      <th></th>\n",
              "      <th></th>\n",
              "      <th></th>\n",
              "    </tr>\n",
              "  </thead>\n",
              "  <tbody>\n",
              "    <tr>\n",
              "      <th>Australia and New Zealand</th>\n",
              "      <td>7.285000</td>\n",
              "      <td>7.284</td>\n",
              "      <td>7.286</td>\n",
              "    </tr>\n",
              "    <tr>\n",
              "      <th>Central and Eastern Europe</th>\n",
              "      <td>5.332931</td>\n",
              "      <td>4.218</td>\n",
              "      <td>6.505</td>\n",
              "    </tr>\n",
              "    <tr>\n",
              "      <th>Eastern Asia</th>\n",
              "      <td>5.626167</td>\n",
              "      <td>4.874</td>\n",
              "      <td>6.298</td>\n",
              "    </tr>\n",
              "    <tr>\n",
              "      <th>Latin America and Caribbean</th>\n",
              "      <td>6.144682</td>\n",
              "      <td>4.518</td>\n",
              "      <td>7.226</td>\n",
              "    </tr>\n",
              "    <tr>\n",
              "      <th>Middle East and Northern Africa</th>\n",
              "      <td>5.406900</td>\n",
              "      <td>3.006</td>\n",
              "      <td>7.278</td>\n",
              "    </tr>\n",
              "    <tr>\n",
              "      <th>North America</th>\n",
              "      <td>7.273000</td>\n",
              "      <td>7.119</td>\n",
              "      <td>7.427</td>\n",
              "    </tr>\n",
              "    <tr>\n",
              "      <th>Southeastern Asia</th>\n",
              "      <td>5.317444</td>\n",
              "      <td>3.819</td>\n",
              "      <td>6.798</td>\n",
              "    </tr>\n",
              "    <tr>\n",
              "      <th>Southern Asia</th>\n",
              "      <td>4.580857</td>\n",
              "      <td>3.575</td>\n",
              "      <td>5.253</td>\n",
              "    </tr>\n",
              "    <tr>\n",
              "      <th>Sub-Saharan Africa</th>\n",
              "      <td>4.202800</td>\n",
              "      <td>2.839</td>\n",
              "      <td>5.477</td>\n",
              "    </tr>\n",
              "    <tr>\n",
              "      <th>Western Europe</th>\n",
              "      <td>6.689619</td>\n",
              "      <td>4.857</td>\n",
              "      <td>7.587</td>\n",
              "    </tr>\n",
              "    <tr>\n",
              "      <th>All</th>\n",
              "      <td>5.375734</td>\n",
              "      <td>2.839</td>\n",
              "      <td>7.587</td>\n",
              "    </tr>\n",
              "  </tbody>\n",
              "</table>\n",
              "</div>"
            ],
            "text/plain": [
              "                                           mean            amin            amax\n",
              "                                Happiness Score Happiness Score Happiness Score\n",
              "Region                                                                         \n",
              "Australia and New Zealand              7.285000           7.284           7.286\n",
              "Central and Eastern Europe             5.332931           4.218           6.505\n",
              "Eastern Asia                           5.626167           4.874           6.298\n",
              "Latin America and Caribbean            6.144682           4.518           7.226\n",
              "Middle East and Northern Africa        5.406900           3.006           7.278\n",
              "North America                          7.273000           7.119           7.427\n",
              "Southeastern Asia                      5.317444           3.819           6.798\n",
              "Southern Asia                          4.580857           3.575           5.253\n",
              "Sub-Saharan Africa                     4.202800           2.839           5.477\n",
              "Western Europe                         6.689619           4.857           7.587\n",
              "All                                    5.375734           2.839           7.587"
            ]
          },
          "metadata": {
            "tags": []
          },
          "execution_count": 32
        }
      ]
    },
    {
      "cell_type": "code",
      "metadata": {
        "colab": {
          "base_uri": "https://localhost:8080/",
          "height": 452
        },
        "id": "P7_fBfrStjXw",
        "outputId": "7f40683d-f0dc-4b2c-be84-94c7a33efed3"
      },
      "source": [
        "happiness2015.pivot_table('Happiness Score', 'Region', aggfunc=[np.mean, np.min , np.max], margins=True)"
      ],
      "execution_count": 33,
      "outputs": [
        {
          "output_type": "execute_result",
          "data": {
            "text/html": [
              "<div>\n",
              "<style scoped>\n",
              "    .dataframe tbody tr th:only-of-type {\n",
              "        vertical-align: middle;\n",
              "    }\n",
              "\n",
              "    .dataframe tbody tr th {\n",
              "        vertical-align: top;\n",
              "    }\n",
              "\n",
              "    .dataframe thead tr th {\n",
              "        text-align: left;\n",
              "    }\n",
              "\n",
              "    .dataframe thead tr:last-of-type th {\n",
              "        text-align: right;\n",
              "    }\n",
              "</style>\n",
              "<table border=\"1\" class=\"dataframe\">\n",
              "  <thead>\n",
              "    <tr>\n",
              "      <th></th>\n",
              "      <th>mean</th>\n",
              "      <th>amin</th>\n",
              "      <th>amax</th>\n",
              "    </tr>\n",
              "    <tr>\n",
              "      <th></th>\n",
              "      <th>Happiness Score</th>\n",
              "      <th>Happiness Score</th>\n",
              "      <th>Happiness Score</th>\n",
              "    </tr>\n",
              "    <tr>\n",
              "      <th>Region</th>\n",
              "      <th></th>\n",
              "      <th></th>\n",
              "      <th></th>\n",
              "    </tr>\n",
              "  </thead>\n",
              "  <tbody>\n",
              "    <tr>\n",
              "      <th>Australia and New Zealand</th>\n",
              "      <td>7.285000</td>\n",
              "      <td>7.284</td>\n",
              "      <td>7.286</td>\n",
              "    </tr>\n",
              "    <tr>\n",
              "      <th>Central and Eastern Europe</th>\n",
              "      <td>5.332931</td>\n",
              "      <td>4.218</td>\n",
              "      <td>6.505</td>\n",
              "    </tr>\n",
              "    <tr>\n",
              "      <th>Eastern Asia</th>\n",
              "      <td>5.626167</td>\n",
              "      <td>4.874</td>\n",
              "      <td>6.298</td>\n",
              "    </tr>\n",
              "    <tr>\n",
              "      <th>Latin America and Caribbean</th>\n",
              "      <td>6.144682</td>\n",
              "      <td>4.518</td>\n",
              "      <td>7.226</td>\n",
              "    </tr>\n",
              "    <tr>\n",
              "      <th>Middle East and Northern Africa</th>\n",
              "      <td>5.406900</td>\n",
              "      <td>3.006</td>\n",
              "      <td>7.278</td>\n",
              "    </tr>\n",
              "    <tr>\n",
              "      <th>North America</th>\n",
              "      <td>7.273000</td>\n",
              "      <td>7.119</td>\n",
              "      <td>7.427</td>\n",
              "    </tr>\n",
              "    <tr>\n",
              "      <th>Southeastern Asia</th>\n",
              "      <td>5.317444</td>\n",
              "      <td>3.819</td>\n",
              "      <td>6.798</td>\n",
              "    </tr>\n",
              "    <tr>\n",
              "      <th>Southern Asia</th>\n",
              "      <td>4.580857</td>\n",
              "      <td>3.575</td>\n",
              "      <td>5.253</td>\n",
              "    </tr>\n",
              "    <tr>\n",
              "      <th>Sub-Saharan Africa</th>\n",
              "      <td>4.202800</td>\n",
              "      <td>2.839</td>\n",
              "      <td>5.477</td>\n",
              "    </tr>\n",
              "    <tr>\n",
              "      <th>Western Europe</th>\n",
              "      <td>6.689619</td>\n",
              "      <td>4.857</td>\n",
              "      <td>7.587</td>\n",
              "    </tr>\n",
              "    <tr>\n",
              "      <th>All</th>\n",
              "      <td>5.375734</td>\n",
              "      <td>2.839</td>\n",
              "      <td>7.587</td>\n",
              "    </tr>\n",
              "  </tbody>\n",
              "</table>\n",
              "</div>"
            ],
            "text/plain": [
              "                                           mean            amin            amax\n",
              "                                Happiness Score Happiness Score Happiness Score\n",
              "Region                                                                         \n",
              "Australia and New Zealand              7.285000           7.284           7.286\n",
              "Central and Eastern Europe             5.332931           4.218           6.505\n",
              "Eastern Asia                           5.626167           4.874           6.298\n",
              "Latin America and Caribbean            6.144682           4.518           7.226\n",
              "Middle East and Northern Africa        5.406900           3.006           7.278\n",
              "North America                          7.273000           7.119           7.427\n",
              "Southeastern Asia                      5.317444           3.819           6.798\n",
              "Southern Asia                          4.580857           3.575           5.253\n",
              "Sub-Saharan Africa                     4.202800           2.839           5.477\n",
              "Western Europe                         6.689619           4.857           7.587\n",
              "All                                    5.375734           2.839           7.587"
            ]
          },
          "metadata": {
            "tags": []
          },
          "execution_count": 33
        }
      ]
    },
    {
      "cell_type": "code",
      "metadata": {
        "colab": {
          "base_uri": "https://localhost:8080/",
          "height": 421
        },
        "id": "M-sMESMDtkzg",
        "outputId": "7492ef71-7caf-495e-a138-95b0cbf2d2cf"
      },
      "source": [
        "grouped= happiness2015.groupby('Region')[['Happiness Score', 'Family']]\r\n",
        "happy_family_stats= grouped.agg([np.min, np.max, np.mean])\r\n",
        "pv_happy_family_stats=happiness2015.pivot_table(index='Region', values=['Family', 'Happiness Score'],\r\n",
        "                                                aggfunc= [np.min, np.max, np.mean], margins=True) \r\n",
        "happy_family_stats"
      ],
      "execution_count": 35,
      "outputs": [
        {
          "output_type": "execute_result",
          "data": {
            "text/html": [
              "<div>\n",
              "<style scoped>\n",
              "    .dataframe tbody tr th:only-of-type {\n",
              "        vertical-align: middle;\n",
              "    }\n",
              "\n",
              "    .dataframe tbody tr th {\n",
              "        vertical-align: top;\n",
              "    }\n",
              "\n",
              "    .dataframe thead tr th {\n",
              "        text-align: left;\n",
              "    }\n",
              "\n",
              "    .dataframe thead tr:last-of-type th {\n",
              "        text-align: right;\n",
              "    }\n",
              "</style>\n",
              "<table border=\"1\" class=\"dataframe\">\n",
              "  <thead>\n",
              "    <tr>\n",
              "      <th></th>\n",
              "      <th colspan=\"3\" halign=\"left\">Happiness Score</th>\n",
              "      <th colspan=\"3\" halign=\"left\">Family</th>\n",
              "    </tr>\n",
              "    <tr>\n",
              "      <th></th>\n",
              "      <th>amin</th>\n",
              "      <th>amax</th>\n",
              "      <th>mean</th>\n",
              "      <th>amin</th>\n",
              "      <th>amax</th>\n",
              "      <th>mean</th>\n",
              "    </tr>\n",
              "    <tr>\n",
              "      <th>Region</th>\n",
              "      <th></th>\n",
              "      <th></th>\n",
              "      <th></th>\n",
              "      <th></th>\n",
              "      <th></th>\n",
              "      <th></th>\n",
              "    </tr>\n",
              "  </thead>\n",
              "  <tbody>\n",
              "    <tr>\n",
              "      <th>Australia and New Zealand</th>\n",
              "      <td>7.284</td>\n",
              "      <td>7.286</td>\n",
              "      <td>7.285000</td>\n",
              "      <td>1.30923</td>\n",
              "      <td>1.31967</td>\n",
              "      <td>1.314450</td>\n",
              "    </tr>\n",
              "    <tr>\n",
              "      <th>Central and Eastern Europe</th>\n",
              "      <td>4.218</td>\n",
              "      <td>6.505</td>\n",
              "      <td>5.332931</td>\n",
              "      <td>0.38562</td>\n",
              "      <td>1.34043</td>\n",
              "      <td>1.053042</td>\n",
              "    </tr>\n",
              "    <tr>\n",
              "      <th>Eastern Asia</th>\n",
              "      <td>4.874</td>\n",
              "      <td>6.298</td>\n",
              "      <td>5.626167</td>\n",
              "      <td>0.94675</td>\n",
              "      <td>1.30060</td>\n",
              "      <td>1.099427</td>\n",
              "    </tr>\n",
              "    <tr>\n",
              "      <th>Latin America and Caribbean</th>\n",
              "      <td>4.518</td>\n",
              "      <td>7.226</td>\n",
              "      <td>6.144682</td>\n",
              "      <td>0.74302</td>\n",
              "      <td>1.30477</td>\n",
              "      <td>1.104720</td>\n",
              "    </tr>\n",
              "    <tr>\n",
              "      <th>Middle East and Northern Africa</th>\n",
              "      <td>3.006</td>\n",
              "      <td>7.278</td>\n",
              "      <td>5.406900</td>\n",
              "      <td>0.47489</td>\n",
              "      <td>1.22393</td>\n",
              "      <td>0.920490</td>\n",
              "    </tr>\n",
              "    <tr>\n",
              "      <th>North America</th>\n",
              "      <td>7.119</td>\n",
              "      <td>7.427</td>\n",
              "      <td>7.273000</td>\n",
              "      <td>1.24711</td>\n",
              "      <td>1.32261</td>\n",
              "      <td>1.284860</td>\n",
              "    </tr>\n",
              "    <tr>\n",
              "      <th>Southeastern Asia</th>\n",
              "      <td>3.819</td>\n",
              "      <td>6.798</td>\n",
              "      <td>5.317444</td>\n",
              "      <td>0.62736</td>\n",
              "      <td>1.26504</td>\n",
              "      <td>0.940468</td>\n",
              "    </tr>\n",
              "    <tr>\n",
              "      <th>Southern Asia</th>\n",
              "      <td>3.575</td>\n",
              "      <td>5.253</td>\n",
              "      <td>4.580857</td>\n",
              "      <td>0.30285</td>\n",
              "      <td>1.10395</td>\n",
              "      <td>0.645321</td>\n",
              "    </tr>\n",
              "    <tr>\n",
              "      <th>Sub-Saharan Africa</th>\n",
              "      <td>2.839</td>\n",
              "      <td>5.477</td>\n",
              "      <td>4.202800</td>\n",
              "      <td>0.00000</td>\n",
              "      <td>1.18468</td>\n",
              "      <td>0.809085</td>\n",
              "    </tr>\n",
              "    <tr>\n",
              "      <th>Western Europe</th>\n",
              "      <td>4.857</td>\n",
              "      <td>7.587</td>\n",
              "      <td>6.689619</td>\n",
              "      <td>0.89318</td>\n",
              "      <td>1.40223</td>\n",
              "      <td>1.247302</td>\n",
              "    </tr>\n",
              "  </tbody>\n",
              "</table>\n",
              "</div>"
            ],
            "text/plain": [
              "                                Happiness Score         ...   Family          \n",
              "                                           amin   amax  ...     amax      mean\n",
              "Region                                                  ...                   \n",
              "Australia and New Zealand                 7.284  7.286  ...  1.31967  1.314450\n",
              "Central and Eastern Europe                4.218  6.505  ...  1.34043  1.053042\n",
              "Eastern Asia                              4.874  6.298  ...  1.30060  1.099427\n",
              "Latin America and Caribbean               4.518  7.226  ...  1.30477  1.104720\n",
              "Middle East and Northern Africa           3.006  7.278  ...  1.22393  0.920490\n",
              "North America                             7.119  7.427  ...  1.32261  1.284860\n",
              "Southeastern Asia                         3.819  6.798  ...  1.26504  0.940468\n",
              "Southern Asia                             3.575  5.253  ...  1.10395  0.645321\n",
              "Sub-Saharan Africa                        2.839  5.477  ...  1.18468  0.809085\n",
              "Western Europe                            4.857  7.587  ...  1.40223  1.247302\n",
              "\n",
              "[10 rows x 6 columns]"
            ]
          },
          "metadata": {
            "tags": []
          },
          "execution_count": 35
        }
      ]
    },
    {
      "cell_type": "code",
      "metadata": {
        "colab": {
          "base_uri": "https://localhost:8080/",
          "height": 452
        },
        "id": "u9_BctjaChIB",
        "outputId": "d3e7e96e-5e0a-41f9-e3a4-edc81e55c4da"
      },
      "source": [
        "pv_happy_family_stats"
      ],
      "execution_count": 36,
      "outputs": [
        {
          "output_type": "execute_result",
          "data": {
            "text/html": [
              "<div>\n",
              "<style scoped>\n",
              "    .dataframe tbody tr th:only-of-type {\n",
              "        vertical-align: middle;\n",
              "    }\n",
              "\n",
              "    .dataframe tbody tr th {\n",
              "        vertical-align: top;\n",
              "    }\n",
              "\n",
              "    .dataframe thead tr th {\n",
              "        text-align: left;\n",
              "    }\n",
              "\n",
              "    .dataframe thead tr:last-of-type th {\n",
              "        text-align: right;\n",
              "    }\n",
              "</style>\n",
              "<table border=\"1\" class=\"dataframe\">\n",
              "  <thead>\n",
              "    <tr>\n",
              "      <th></th>\n",
              "      <th colspan=\"2\" halign=\"left\">amin</th>\n",
              "      <th colspan=\"2\" halign=\"left\">amax</th>\n",
              "      <th colspan=\"2\" halign=\"left\">mean</th>\n",
              "    </tr>\n",
              "    <tr>\n",
              "      <th></th>\n",
              "      <th>Family</th>\n",
              "      <th>Happiness Score</th>\n",
              "      <th>Family</th>\n",
              "      <th>Happiness Score</th>\n",
              "      <th>Family</th>\n",
              "      <th>Happiness Score</th>\n",
              "    </tr>\n",
              "    <tr>\n",
              "      <th>Region</th>\n",
              "      <th></th>\n",
              "      <th></th>\n",
              "      <th></th>\n",
              "      <th></th>\n",
              "      <th></th>\n",
              "      <th></th>\n",
              "    </tr>\n",
              "  </thead>\n",
              "  <tbody>\n",
              "    <tr>\n",
              "      <th>Australia and New Zealand</th>\n",
              "      <td>1.30923</td>\n",
              "      <td>7.284</td>\n",
              "      <td>1.31967</td>\n",
              "      <td>7.286</td>\n",
              "      <td>1.314450</td>\n",
              "      <td>7.285000</td>\n",
              "    </tr>\n",
              "    <tr>\n",
              "      <th>Central and Eastern Europe</th>\n",
              "      <td>0.38562</td>\n",
              "      <td>4.218</td>\n",
              "      <td>1.34043</td>\n",
              "      <td>6.505</td>\n",
              "      <td>1.053042</td>\n",
              "      <td>5.332931</td>\n",
              "    </tr>\n",
              "    <tr>\n",
              "      <th>Eastern Asia</th>\n",
              "      <td>0.94675</td>\n",
              "      <td>4.874</td>\n",
              "      <td>1.30060</td>\n",
              "      <td>6.298</td>\n",
              "      <td>1.099427</td>\n",
              "      <td>5.626167</td>\n",
              "    </tr>\n",
              "    <tr>\n",
              "      <th>Latin America and Caribbean</th>\n",
              "      <td>0.74302</td>\n",
              "      <td>4.518</td>\n",
              "      <td>1.30477</td>\n",
              "      <td>7.226</td>\n",
              "      <td>1.104720</td>\n",
              "      <td>6.144682</td>\n",
              "    </tr>\n",
              "    <tr>\n",
              "      <th>Middle East and Northern Africa</th>\n",
              "      <td>0.47489</td>\n",
              "      <td>3.006</td>\n",
              "      <td>1.22393</td>\n",
              "      <td>7.278</td>\n",
              "      <td>0.920490</td>\n",
              "      <td>5.406900</td>\n",
              "    </tr>\n",
              "    <tr>\n",
              "      <th>North America</th>\n",
              "      <td>1.24711</td>\n",
              "      <td>7.119</td>\n",
              "      <td>1.32261</td>\n",
              "      <td>7.427</td>\n",
              "      <td>1.284860</td>\n",
              "      <td>7.273000</td>\n",
              "    </tr>\n",
              "    <tr>\n",
              "      <th>Southeastern Asia</th>\n",
              "      <td>0.62736</td>\n",
              "      <td>3.819</td>\n",
              "      <td>1.26504</td>\n",
              "      <td>6.798</td>\n",
              "      <td>0.940468</td>\n",
              "      <td>5.317444</td>\n",
              "    </tr>\n",
              "    <tr>\n",
              "      <th>Southern Asia</th>\n",
              "      <td>0.30285</td>\n",
              "      <td>3.575</td>\n",
              "      <td>1.10395</td>\n",
              "      <td>5.253</td>\n",
              "      <td>0.645321</td>\n",
              "      <td>4.580857</td>\n",
              "    </tr>\n",
              "    <tr>\n",
              "      <th>Sub-Saharan Africa</th>\n",
              "      <td>0.00000</td>\n",
              "      <td>2.839</td>\n",
              "      <td>1.18468</td>\n",
              "      <td>5.477</td>\n",
              "      <td>0.809085</td>\n",
              "      <td>4.202800</td>\n",
              "    </tr>\n",
              "    <tr>\n",
              "      <th>Western Europe</th>\n",
              "      <td>0.89318</td>\n",
              "      <td>4.857</td>\n",
              "      <td>1.40223</td>\n",
              "      <td>7.587</td>\n",
              "      <td>1.247302</td>\n",
              "      <td>6.689619</td>\n",
              "    </tr>\n",
              "    <tr>\n",
              "      <th>All</th>\n",
              "      <td>0.00000</td>\n",
              "      <td>2.839</td>\n",
              "      <td>1.40223</td>\n",
              "      <td>7.587</td>\n",
              "      <td>0.991046</td>\n",
              "      <td>5.375734</td>\n",
              "    </tr>\n",
              "  </tbody>\n",
              "</table>\n",
              "</div>"
            ],
            "text/plain": [
              "                                    amin  ...            mean\n",
              "                                  Family  ... Happiness Score\n",
              "Region                                    ...                \n",
              "Australia and New Zealand        1.30923  ...        7.285000\n",
              "Central and Eastern Europe       0.38562  ...        5.332931\n",
              "Eastern Asia                     0.94675  ...        5.626167\n",
              "Latin America and Caribbean      0.74302  ...        6.144682\n",
              "Middle East and Northern Africa  0.47489  ...        5.406900\n",
              "North America                    1.24711  ...        7.273000\n",
              "Southeastern Asia                0.62736  ...        5.317444\n",
              "Southern Asia                    0.30285  ...        4.580857\n",
              "Sub-Saharan Africa               0.00000  ...        4.202800\n",
              "Western Europe                   0.89318  ...        6.689619\n",
              "All                              0.00000  ...        5.375734\n",
              "\n",
              "[11 rows x 6 columns]"
            ]
          },
          "metadata": {
            "tags": []
          },
          "execution_count": 36
        }
      ]
    },
    {
      "cell_type": "markdown",
      "metadata": {
        "id": "nH5gQcgiCyud"
      },
      "source": [
        "Here I saw uses of groupby and pivot_table"
      ]
    },
    {
      "cell_type": "code",
      "metadata": {
        "id": "YqJ8a8YoCsBa"
      },
      "source": [
        ""
      ],
      "execution_count": null,
      "outputs": []
    }
  ]
}